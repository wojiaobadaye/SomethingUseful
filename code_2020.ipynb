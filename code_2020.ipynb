{
 "cells": [
  {
   "cell_type": "code",
   "execution_count": 1,
   "metadata": {},
   "outputs": [],
   "source": [
    "import numpy as np\n",
    "import pandas as pd\n",
    "import xlwings as xw"
   ]
  },
  {
   "cell_type": "code",
   "execution_count": 2,
   "metadata": {},
   "outputs": [],
   "source": [
    "hebing = [\n",
    "    '中国电子科技集团',\n",
    "    '中国航天科工集团',\n",
    "    '中国兵器工业集团',\n",
    "    '杨茂富',\n",
    "    '中国电子信息产业集团',\n",
    "    '中国航天科技集团',\n",
    "    '中国船舶集团',\n",
    "    '江滔',\n",
    "    '中国航空工业集团',\n",
    "    '王柯',\n",
    "    '杜春香',\n",
    "    '唐富奎',\n",
    "    '丁燕',\n",
    "    '宏嘉科技',\n",
    "    '王晓燕',\n",
    "    '藏朝峰',\n",
    "    '智明达',\n",
    "    '康达新材',\n",
    "    '周淑华',\n",
    "    '王洁',\n",
    "    '江苏和正',\n",
    "    '楼继勇',\n",
    "    '陈建新',\n",
    "    '罗锋',\n",
    "    '新雷能'\n",
    "]"
   ]
  },
  {
   "cell_type": "code",
   "execution_count": 3,
   "metadata": {},
   "outputs": [
    {
     "data": {
      "text/plain": [
       "25"
      ]
     },
     "execution_count": 3,
     "metadata": {},
     "output_type": "execute_result"
    }
   ],
   "source": [
    "len(hebing)"
   ]
  },
  {
   "cell_type": "code",
   "execution_count": 4,
   "metadata": {},
   "outputs": [
    {
     "data": {
      "text/plain": [
       "日期        datetime64[ns]\n",
       "发票号码              object\n",
       "客户代码             float64\n",
       "客户名称              object\n",
       "工商名称              object\n",
       "合并口径              object\n",
       "产品代码              object\n",
       "数量               float64\n",
       "销售含税单价           float64\n",
       "不含税销售额           float64\n",
       "源单单号              object\n",
       "合同号               object\n",
       "出库日期      datetime64[ns]\n",
       "凭证号               object\n",
       "备注                object\n",
       "dtype: object"
      ]
     },
     "execution_count": 4,
     "metadata": {},
     "output_type": "execute_result"
    }
   ],
   "source": [
    "df = pd.read_excel('../收入成本大表2020-2022.xlsx', sheet_name='2020', skiprows=1)\n",
    "df.dtypes"
   ]
  },
  {
   "cell_type": "code",
   "execution_count": 5,
   "metadata": {},
   "outputs": [],
   "source": [
    "df.rename(columns={'源单单号':'出库单号', '备注':'快递单号', '日期':'开票日期', '凭证号':'收入凭证号'}, inplace=True)"
   ]
  },
  {
   "cell_type": "code",
   "execution_count": 6,
   "metadata": {},
   "outputs": [],
   "source": [
    "df['合同金额'] = df['数量']*df['销售含税单价']\n",
    "df['出库数量'] = df['数量']\n",
    "df['单据类型'] = '快递单'\n",
    "df['运输数量'] = df['数量']\n",
    "df['签收单据'] = '交付确认单'"
   ]
  },
  {
   "cell_type": "code",
   "execution_count": 7,
   "metadata": {},
   "outputs": [],
   "source": [
    "df = df[['合并口径','工商名称','合同号','产品代码','数量','销售含税单价','合同金额','出库日期','出库单号','出库数量',\\\n",
    "    '单据类型', '运输数量','不含税销售额','收入凭证号','发票号码']]"
   ]
  },
  {
   "cell_type": "code",
   "execution_count": 8,
   "metadata": {},
   "outputs": [
    {
     "data": {
      "text/plain": [
       "合并口径              object\n",
       "工商名称              object\n",
       "合同号               object\n",
       "产品代码              object\n",
       "数量               float64\n",
       "销售含税单价           float64\n",
       "合同金额             float64\n",
       "出库日期      datetime64[ns]\n",
       "出库单号              object\n",
       "出库数量             float64\n",
       "单据类型              object\n",
       "运输数量             float64\n",
       "不含税销售额           float64\n",
       "收入凭证号             object\n",
       "发票号码              object\n",
       "dtype: object"
      ]
     },
     "execution_count": 8,
     "metadata": {},
     "output_type": "execute_result"
    }
   ],
   "source": [
    "df.dtypes"
   ]
  },
  {
   "cell_type": "code",
   "execution_count": 9,
   "metadata": {},
   "outputs": [
    {
     "data": {
      "text/plain": [
       "(4422, 15)"
      ]
     },
     "execution_count": 9,
     "metadata": {},
     "output_type": "execute_result"
    }
   ],
   "source": [
    "df.shape"
   ]
  },
  {
   "cell_type": "code",
   "execution_count": 10,
   "metadata": {},
   "outputs": [],
   "source": [
    "comp = {}  # comp[合并口径]=下属公司 1、客户年总销售量大于20万\n",
    "for i in hebing:\n",
    "    temp = df[df['合并口径']==i].groupby('工商名称')['不含税销售额'].agg(np.sum).sort_values()\n",
    "    comp_name = temp[temp>=200000].index\n",
    "    comp[i] =comp_name"
   ]
  },
  {
   "cell_type": "code",
   "execution_count": 11,
   "metadata": {},
   "outputs": [
    {
     "data": {
      "text/plain": [
       "55"
      ]
     },
     "execution_count": 11,
     "metadata": {},
     "output_type": "execute_result"
    }
   ],
   "source": [
    "n = 0\n",
    "for i in range(len(hebing)):\n",
    "    a = len(comp[hebing[i]])\n",
    "    n += a    \n",
    "n"
   ]
  },
  {
   "cell_type": "code",
   "execution_count": 12,
   "metadata": {},
   "outputs": [],
   "source": [
    "contracts ={}  # contracts[公司名称]=合同编号 2、抽取金额最大的三个合同，\n",
    "for i in hebing:\n",
    "    for j in comp[i]:\n",
    "        temp = df[(df['工商名称']==j) & (df['合并口径']==i)].groupby('合同号')['不含税销售额'].agg(np.sum).sort_values(ascending=False)\n",
    "        if len(temp)<=3:\n",
    "            contracts[j] = temp.index\n",
    "        else:\n",
    "            contracts[j] = temp.index[0:3]"
   ]
  },
  {
   "cell_type": "code",
   "execution_count": 13,
   "metadata": {},
   "outputs": [],
   "source": [
    "out = pd.DataFrame()\n",
    "for i in hebing: # 集团\n",
    "    for j in comp[i]: # 公司\n",
    "        for c_id in contracts[j]: # 合同\n",
    "            temp = df[(df['合同号']==c_id) & (df['合并口径']==i) & (df['工商名称']==j)]           \n",
    "            out = pd.concat([out, temp])"
   ]
  },
  {
   "cell_type": "code",
   "execution_count": 14,
   "metadata": {},
   "outputs": [
    {
     "data": {
      "text/plain": [
       "(656, 15)"
      ]
     },
     "execution_count": 14,
     "metadata": {},
     "output_type": "execute_result"
    }
   ],
   "source": [
    "out.shape"
   ]
  },
  {
   "cell_type": "code",
   "execution_count": 15,
   "metadata": {},
   "outputs": [],
   "source": [
    "# out.to_excel('out.xlsx', index=False, encoding='utf-8')"
   ]
  },
  {
   "cell_type": "code",
   "execution_count": 16,
   "metadata": {},
   "outputs": [
    {
     "data": {
      "text/plain": [
       "合并口径              object\n",
       "工商名称              object\n",
       "合同号               object\n",
       "产品代码              object\n",
       "数量               float64\n",
       "销售含税单价           float64\n",
       "合同金额             float64\n",
       "出库日期      datetime64[ns]\n",
       "出库单号              object\n",
       "出库数量             float64\n",
       "单据类型              object\n",
       "运输数量             float64\n",
       "不含税销售额           float64\n",
       "收入凭证号             object\n",
       "发票号码              object\n",
       "dtype: object"
      ]
     },
     "execution_count": 16,
     "metadata": {},
     "output_type": "execute_result"
    }
   ],
   "source": [
    "out.dtypes"
   ]
  },
  {
   "cell_type": "code",
   "execution_count": 17,
   "metadata": {},
   "outputs": [
    {
     "data": {
      "text/plain": [
       "收入年度                              int64\n",
       "记账日期                     datetime64[ns]\n",
       "收入记账凭证号                          object\n",
       "客户名称/客户代码                        object\n",
       "补充                               object\n",
       "工商名称                             object\n",
       "底稿对应情况（涉密已脱敏底稿以M后缀命名）            object\n",
       "收入金额                            float64\n",
       "合同号                              object\n",
       "产品代码                             object\n",
       "合同数量                             object\n",
       "合同金额（含税）                        float64\n",
       "合同金额（不含税）                       float64\n",
       "出库时间                             object\n",
       "出库单号                             object\n",
       "发票号                              object\n",
       "开票日期                     datetime64[ns]\n",
       "含税金额                            float64\n",
       "不含税金额                           float64\n",
       "客户签收确认时间                 datetime64[ns]\n",
       "客户签收人                            object\n",
       "发货日期                             object\n",
       "数量                               object\n",
       "是否确认                             object\n",
       "快递公司                             object\n",
       "快递单号                             object\n",
       "收件公司                             object\n",
       "收件人                              object\n",
       "发件时间                             object\n",
       "签收时间                             object\n",
       "回款日期                             object\n",
       "回款凭证号                            object\n",
       "对方科目                             object\n",
       "回款金额                            float64\n",
       "汇款日期                     datetime64[ns]\n",
       "汇款方名称/代码                         object\n",
       "转账金额                            float64\n",
       "票据类型                             object\n",
       "票号                               object\n",
       "出票人/代码                           object\n",
       "承兑人/代码                           object\n",
       "票据金额                            float64\n",
       "仅回款                              object\n",
       "dtype: object"
      ]
     },
     "execution_count": 17,
     "metadata": {},
     "output_type": "execute_result"
    }
   ],
   "source": [
    "dongfang = pd.read_excel('../东方-收入测试-2019-2021.xlsx', sheet_name='收入细节性测试2019-2020', skiprows=1)\n",
    "dongfang.rename(columns={'标的物型号':'产品代码'},inplace=True)\n",
    "dongfang.dtypes"
   ]
  },
  {
   "cell_type": "code",
   "execution_count": 18,
   "metadata": {},
   "outputs": [
    {
     "data": {
      "text/plain": [
       "Index(['合并口径', '工商名称', '合同号', '产品代码', '数量', '销售含税单价', '合同金额', '出库日期', '出库单号',\n",
       "       '出库数量', '单据类型', '运输数量', '不含税销售额', '收入凭证号', '发票号码'],\n",
       "      dtype='object')"
      ]
     },
     "execution_count": 18,
     "metadata": {},
     "output_type": "execute_result"
    }
   ],
   "source": [
    "out.columns"
   ]
  },
  {
   "cell_type": "code",
   "execution_count": 19,
   "metadata": {},
   "outputs": [],
   "source": [
    "new = out.merge(dongfang, how='left', on=['工商名称','合同号', '产品代码', '数量','出库单号'])\n",
    "new['签收单位'] = new['收件公司']+'/'+new['收件人']+'/'+new['客户签收人']\n",
    "new['回款信息'] = new['回款凭证号']+'/'+new['对方科目']+'/'+new['票据类型']"
   ]
  },
  {
   "cell_type": "code",
   "execution_count": 20,
   "metadata": {},
   "outputs": [],
   "source": [
    "new = new[['合并口径', '工商名称', '合同号', '产品代码', '数量', '销售含税单价', '合同金额',\\\n",
    "    '出库日期', '出库单号', '出库数量',\\\n",
    "    '快递公司', '快递单号', '发件时间','运输数量',\\\n",
    "    '单据类型','客户签收确认时间','签收单位',\\\n",
    "    '开票日期','发票号码','不含税销售额',\\\n",
    "    '收入记账凭证号','记账日期','收入金额',\\\n",
    "    '回款日期','回款信息','回款金额','票据金额',  '底稿对应情况（涉密已脱敏底稿以M后缀命名）']]"
   ]
  },
  {
   "cell_type": "code",
   "execution_count": 21,
   "metadata": {},
   "outputs": [],
   "source": [
    "new.to_excel('new.xlsx',index=False, encoding='utf-8')"
   ]
  },
  {
   "cell_type": "code",
   "execution_count": null,
   "metadata": {},
   "outputs": [],
   "source": []
  }
 ],
 "metadata": {
  "kernelspec": {
   "display_name": "data39",
   "language": "python",
   "name": "python3"
  },
  "language_info": {
   "codemirror_mode": {
    "name": "ipython",
    "version": 3
   },
   "file_extension": ".py",
   "mimetype": "text/x-python",
   "name": "python",
   "nbconvert_exporter": "python",
   "pygments_lexer": "ipython3",
   "version": "3.9.16"
  },
  "orig_nbformat": 4
 },
 "nbformat": 4,
 "nbformat_minor": 2
}
