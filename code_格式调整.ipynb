{
 "cells": [
  {
   "cell_type": "code",
   "execution_count": 1,
   "metadata": {},
   "outputs": [],
   "source": [
    "import pandas as pd\n",
    "import numpy as np\n",
    "import xlwings as xw"
   ]
  },
  {
   "cell_type": "code",
   "execution_count": 2,
   "metadata": {},
   "outputs": [],
   "source": [
    "# 调整格式、主要是调整\n",
    "wb = xw.books.active\n",
    "sh1 = wb.sheets['2020']"
   ]
  },
  {
   "cell_type": "code",
   "execution_count": 3,
   "metadata": {},
   "outputs": [
    {
     "data": {
      "text/plain": [
       "'中国电子科技集团公司第三十二研究所'"
      ]
     },
     "execution_count": 3,
     "metadata": {},
     "output_type": "execute_result"
    }
   ],
   "source": [
    "sh1['C5'].value"
   ]
  },
  {
   "cell_type": "code",
   "execution_count": 4,
   "metadata": {},
   "outputs": [
    {
     "data": {
      "text/plain": [
       "Unnamed: 0             object\n",
       "合并口径                   object\n",
       "客户工商名称                 object\n",
       "合同号                    object\n",
       "产品代码                   object\n",
       "合同数量                    int64\n",
       "销售单价                  float64\n",
       "合同金额                  float64\n",
       "日期             datetime64[ns]\n",
       "编号                     object\n",
       "数量                      int64\n",
       "发货日期                   object\n",
       "快递编号                   object\n",
       "数量.1                    int64\n",
       "是否适用                  float64\n",
       "数量.2                  float64\n",
       "日期.1                  float64\n",
       "是否适用.1                float64\n",
       "数量.3                  float64\n",
       "日期.2                  float64\n",
       "是否适用.2                float64\n",
       "数量.4                  float64\n",
       "日期.3                  float64\n",
       "单据类型                   object\n",
       "数量.5                    int64\n",
       "日期.4                   object\n",
       "签收单位                   object\n",
       "日期.5                   object\n",
       "编号.1                   object\n",
       "数量.6                    int64\n",
       "金额                     object\n",
       "凭证号                    object\n",
       "日期.6                   object\n",
       "金额.1                  float64\n",
       "数量.7                  float64\n",
       "摘要                    float64\n",
       "Unnamed: 36            object\n",
       "日期.7           datetime64[ns]\n",
       "金额.2                  float64\n",
       "对方名称                   object\n",
       "日期.8           datetime64[ns]\n",
       "金额.3                  float64\n",
       "对方名称.1                 object\n",
       "Unnamed: 43           float64\n",
       "Unnamed: 44            object\n",
       "底稿信息                   object\n",
       "dtype: object"
      ]
     },
     "execution_count": 4,
     "metadata": {},
     "output_type": "execute_result"
    }
   ],
   "source": [
    "df = pd.read_excel('../2-2-7.xlsx', skiprows=3, sheet_name='2020')\n",
    "df.dtypes"
   ]
  },
  {
   "cell_type": "code",
   "execution_count": 5,
   "metadata": {},
   "outputs": [],
   "source": [
    "df.rename(columns={'日期':'出库日期', '日期.4':'签收日期', '日期.5':'开票日期', '日期.6':'记账日期'}, inplace=True)"
   ]
  },
  {
   "cell_type": "code",
   "execution_count": 6,
   "metadata": {},
   "outputs": [],
   "source": [
    "def gf_str(x: str):\n",
    "    return x.strip('/')\n",
    "for i in ['快递编号', '签收单位', '编号.1', '凭证号', 'Unnamed: 36']:\n",
    "    df[i] = df[i].fillna('').astype(str)\n",
    "    df[i] = df[i].map(gf_str)"
   ]
  },
  {
   "cell_type": "code",
   "execution_count": 7,
   "metadata": {},
   "outputs": [],
   "source": [
    "def gf_date(x: str):\n",
    "    return x.split(' ')[0].strip('/')\n",
    "\n",
    "for i in ['出库日期', '发货日期', '签收日期', '开票日期', '记账日期']:\n",
    "    df[i] = df[i].fillna('').astype(str)\n",
    "    df[i] = df[i].map(gf_date)"
   ]
  },
  {
   "cell_type": "code",
   "execution_count": 8,
   "metadata": {},
   "outputs": [],
   "source": [
    "# 填充日期\n",
    "sh1['I5'].options(transpose=True).value = df['出库日期'].values\n",
    "sh1['L5'].options(transpose=True).value = df['发货日期'].values\n",
    "sh1['Z5'].options(transpose=True).value = df['签收日期'].values\n",
    "sh1['AB5'].options(transpose=True).value = df['开票日期'].values\n",
    "sh1['AG5'].options(transpose=True).value = df['记账日期'].values"
   ]
  },
  {
   "cell_type": "code",
   "execution_count": 64,
   "metadata": {},
   "outputs": [],
   "source": [
    "# 填充文本\n",
    "sh1['M5'].options(transpose=True).value = df['快递编号'].values\n",
    "sh1['AA5'].options(transpose=True).value = df['签收单位'].values\n",
    "sh1['AC5'].options(transpose=True).value = df['编号.1'].values\n",
    "sh1['AF5'].options(transpose=True).value = df['凭证号'].values\n",
    "sh1['AK5'].options(transpose=True).value = df['Unnamed: 36'].values"
   ]
  },
  {
   "cell_type": "code",
   "execution_count": 65,
   "metadata": {},
   "outputs": [],
   "source": [
    "# 2021年调整\n",
    "wb = xw.books.active\n",
    "sh1 = wb.sheets['2021']"
   ]
  },
  {
   "cell_type": "code",
   "execution_count": 66,
   "metadata": {},
   "outputs": [
    {
     "data": {
      "text/plain": [
       "'北京遥感设备研究所'"
      ]
     },
     "execution_count": 66,
     "metadata": {},
     "output_type": "execute_result"
    }
   ],
   "source": [
    "sh1['C5'].value"
   ]
  },
  {
   "cell_type": "code",
   "execution_count": 67,
   "metadata": {},
   "outputs": [],
   "source": [
    "df = pd.read_excel('../2-2-7.xlsx', skiprows=3, sheet_name='2021')\n",
    "df.rename(columns={'日期':'出库日期', '日期.4':'签收日期', '日期.5':'开票日期', '日期.6':'记账日期'}, inplace=True)\n",
    "\n",
    "def gf_str(x: str):\n",
    "    return x.strip('/')\n",
    "for i in ['快递编号', '签收单位', '编号.1', '凭证号', 'Unnamed: 36']:\n",
    "    df[i] = df[i].fillna('').astype(str)\n",
    "    df[i] = df[i].map(gf_str)\n",
    "    \n",
    "def gf_date(x: str):\n",
    "    return x.split(' ')[0].strip('/')\n",
    "\n",
    "for i in ['出库日期', '发货日期', '签收日期', '开票日期', '记账日期']:\n",
    "    df[i] = df[i].fillna('').astype(str)\n",
    "    df[i] = df[i].map(gf_date)"
   ]
  },
  {
   "cell_type": "code",
   "execution_count": 68,
   "metadata": {},
   "outputs": [],
   "source": [
    "# 填充日期\n",
    "sh1['I5'].options(transpose=True).value = df['出库日期'].values\n",
    "sh1['L5'].options(transpose=True).value = df['发货日期'].values\n",
    "sh1['Z5'].options(transpose=True).value = df['签收日期'].values\n",
    "sh1['AB5'].options(transpose=True).value = df['开票日期'].values\n",
    "sh1['AG5'].options(transpose=True).value = df['记账日期'].values\n",
    "# 填充文本\n",
    "sh1['M5'].options(transpose=True).value = df['快递编号'].values\n",
    "sh1['AA5'].options(transpose=True).value = df['签收单位'].values\n",
    "sh1['AC5'].options(transpose=True).value = df['编号.1'].values\n",
    "sh1['AF5'].options(transpose=True).value = df['凭证号'].values\n",
    "sh1['AK5'].options(transpose=True).value = df['Unnamed: 36'].values"
   ]
  },
  {
   "cell_type": "code",
   "execution_count": 69,
   "metadata": {},
   "outputs": [],
   "source": [
    "sh1['M5'].options(transpose=True).value = df['快递编号'].values"
   ]
  },
  {
   "cell_type": "code",
   "execution_count": 70,
   "metadata": {},
   "outputs": [
    {
     "data": {
      "text/plain": [
       "'湖北楚航电子科技有限公司'"
      ]
     },
     "execution_count": 70,
     "metadata": {},
     "output_type": "execute_result"
    }
   ],
   "source": [
    "# 2022年调整\n",
    "wb = xw.books.active\n",
    "sh1 = wb.sheets['2022']\n",
    "sh1['C5'].value"
   ]
  },
  {
   "cell_type": "code",
   "execution_count": 71,
   "metadata": {},
   "outputs": [],
   "source": [
    "df = pd.read_excel('../2-2-7.xlsx', skiprows=3, sheet_name='2022')\n",
    "df.rename(columns={'日期':'出库日期', '日期.4':'签收日期', '日期.5':'开票日期', '日期.6':'记账日期'}, inplace=True)\n",
    "\n",
    "def gf_str(x: str):\n",
    "    return x.strip('/')\n",
    "for i in ['快递编号', '签收单位', '编号.1', '凭证号', 'Unnamed: 36']:\n",
    "    df[i] = df[i].fillna('').astype(str)\n",
    "    df[i] = df[i].map(gf_str)\n",
    "    \n",
    "def gf_date(x: str):\n",
    "    return x.split(' ')[0].strip('/')\n",
    "\n",
    "for i in ['出库日期', '发货日期', '签收日期', '开票日期', '记账日期']:\n",
    "    df[i] = df[i].fillna('').astype(str)\n",
    "    df[i] = df[i].map(gf_date)"
   ]
  },
  {
   "cell_type": "code",
   "execution_count": 72,
   "metadata": {},
   "outputs": [],
   "source": [
    "# 填充日期\n",
    "sh1['I5'].options(transpose=True).value = df['出库日期'].values\n",
    "sh1['L5'].options(transpose=True).value = df['发货日期'].values\n",
    "sh1['Z5'].options(transpose=True).value = df['签收日期'].values\n",
    "sh1['AB5'].options(transpose=True).value = df['开票日期'].values\n",
    "sh1['AG5'].options(transpose=True).value = df['记账日期'].values\n",
    "# 填充文本\n",
    "sh1['M5'].options(transpose=True).value = df['快递编号'].values\n",
    "sh1['AA5'].options(transpose=True).value = df['签收单位'].values\n",
    "sh1['AC5'].options(transpose=True).value = df['编号.1'].values\n",
    "sh1['AF5'].options(transpose=True).value = df['凭证号'].values\n",
    "sh1['AK5'].options(transpose=True).value = df['Unnamed: 36'].values"
   ]
  },
  {
   "cell_type": "code",
   "execution_count": 2,
   "metadata": {},
   "outputs": [
    {
     "data": {
      "text/plain": [
       "Unnamed: 0             object\n",
       "合并口径                   object\n",
       "客户工商名称                 object\n",
       "合同号                    object\n",
       "产品代码                   object\n",
       "合同数量                    int64\n",
       "销售单价                  float64\n",
       "合同金额                  float64\n",
       "日期             datetime64[ns]\n",
       "编号                     object\n",
       "数量                      int64\n",
       "发货日期           datetime64[ns]\n",
       "快递编号                   object\n",
       "数量.1                    int64\n",
       "是否适用                  float64\n",
       "数量.2                  float64\n",
       "日期.1                  float64\n",
       "是否适用.1                float64\n",
       "数量.3                  float64\n",
       "日期.2                  float64\n",
       "是否适用.2                float64\n",
       "数量.4                  float64\n",
       "日期.3                  float64\n",
       "单据类型                   object\n",
       "数量.5                    int64\n",
       "日期.4                   object\n",
       "签收单位                   object\n",
       "日期.5           datetime64[ns]\n",
       "编号.1                   object\n",
       "数量.6                    int64\n",
       "金额                     object\n",
       "凭证号                    object\n",
       "日期.6           datetime64[ns]\n",
       "金额.1                  float64\n",
       "数量.7                  float64\n",
       "摘要                    float64\n",
       "Unnamed: 36            object\n",
       "日期.7           datetime64[ns]\n",
       "金额.2                  float64\n",
       "对方名称                   object\n",
       "日期.8           datetime64[ns]\n",
       "金额.3                  float64\n",
       "对方名称.1                 object\n",
       "Unnamed: 43           float64\n",
       "Unnamed: 44            object\n",
       "底稿信息                   object\n",
       "dtype: object"
      ]
     },
     "execution_count": 2,
     "metadata": {},
     "output_type": "execute_result"
    }
   ],
   "source": [
    "# 筛选需要补充的底稿\n",
    "df = pd.read_excel('../2-2-7.xlsx', skiprows=3, sheet_name='2020')\n",
    "df.dtypes"
   ]
  },
  {
   "cell_type": "code",
   "execution_count": 6,
   "metadata": {},
   "outputs": [],
   "source": [
    "df['是否有底稿'] = df['Unnamed: 44'].fillna('')+df['底稿信息'].fillna('')\n",
    "df['底稿'] = df['是否有底稿'].apply(lambda x: 0 if x=='' else 1)"
   ]
  },
  {
   "cell_type": "code",
   "execution_count": 9,
   "metadata": {},
   "outputs": [],
   "source": [
    "selected = df.groupby(['客户工商名称','合同号'])['底稿'].sum()\n"
   ]
  },
  {
   "cell_type": "code",
   "execution_count": 10,
   "metadata": {},
   "outputs": [],
   "source": [
    "selected.to_excel('2020.xlsx', encoding='utf-8')"
   ]
  },
  {
   "cell_type": "code",
   "execution_count": 11,
   "metadata": {},
   "outputs": [],
   "source": [
    "# 2021\n",
    "df = pd.read_excel('../2-2-7.xlsx', skiprows=3, sheet_name='2021')\n",
    "df['是否有底稿'] = df['Unnamed: 44'].fillna('')+df['底稿信息'].fillna('')\n",
    "df['底稿'] = df['是否有底稿'].apply(lambda x: 0 if x=='' else 1)\n",
    "selected = df.groupby(['客户工商名称','合同号'])['底稿'].sum()\n",
    "selected.to_excel('2021.xlsx', encoding='utf-8')\n",
    "\n",
    "# 2022\n",
    "df = pd.read_excel('../2-2-7.xlsx', skiprows=3, sheet_name='2022')\n",
    "df['是否有底稿'] = df['Unnamed: 44'].fillna('')+df['底稿信息'].fillna('')\n",
    "df['底稿'] = df['是否有底稿'].apply(lambda x: 0 if x=='' else 1)\n",
    "selected = df.groupby(['客户工商名称','合同号'])['底稿'].sum()\n",
    "selected.to_excel('2022.xlsx', encoding='utf-8')"
   ]
  },
  {
   "cell_type": "code",
   "execution_count": null,
   "metadata": {},
   "outputs": [],
   "source": []
  }
 ],
 "metadata": {
  "kernelspec": {
   "display_name": "data39",
   "language": "python",
   "name": "python3"
  },
  "language_info": {
   "codemirror_mode": {
    "name": "ipython",
    "version": 3
   },
   "file_extension": ".py",
   "mimetype": "text/x-python",
   "name": "python",
   "nbconvert_exporter": "python",
   "pygments_lexer": "ipython3",
   "version": "3.9.16"
  },
  "orig_nbformat": 4
 },
 "nbformat": 4,
 "nbformat_minor": 2
}
