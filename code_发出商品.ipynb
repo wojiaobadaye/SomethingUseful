{
 "cells": [
  {
   "cell_type": "code",
   "execution_count": 116,
   "metadata": {},
   "outputs": [],
   "source": [
    "import numpy as np\n",
    "import pandas as pd\n",
    "from docx import Document\n",
    "from docx.shared import Pt\n",
    "from docx.oxml.ns import qn\n",
    "from docx.enum.text import WD_PARAGRAPH_ALIGNMENT\n",
    "from docx.enum.table import WD_ALIGN_VERTICAL"
   ]
  },
  {
   "cell_type": "code",
   "execution_count": 117,
   "metadata": {},
   "outputs": [],
   "source": [
    "# 定义函数\n",
    "def docx_find_replace_text(doc, search_text, replace_text):\n",
    "    for paragraph in doc.paragraphs:\n",
    "        if search_text in paragraph.text:\n",
    "            for run in paragraph.runs:\n",
    "                if search_text in run.text:\n",
    "                    run.text = run.text.replace(search_text, replace_text)\n",
    "\n",
    "# docx_find_replace_text(doc, '«name»', 'new text')\n",
    "\n",
    "# 替换编号\n",
    "def docx_find_replace_header(doc, search_text, replace_text):\n",
    "    for section in doc.sections:\n",
    "        header = section.header  # 获取节的页眉\n",
    "        for paragraph in header.paragraphs:  # 遍历页眉的每个段落\n",
    "            if search_text in paragraph.text:\n",
    "                for run in paragraph.runs:\n",
    "                    if search_text in run.text:\n",
    "                        run.text = run.text.replace(search_text, replace_text)\n",
    "\n",
    "# docx_find_replace_header(doc, '«c_id»', 'new text')\n",
    "\n",
    "#确定样式\n",
    "def set_cell_text_style(cell, pos): \n",
    "    cell.vertical_alignment = WD_ALIGN_VERTICAL.CENTER # 垂直居中\n",
    "    for para in cell.paragraphs:\n",
    "        if pos.lower() == \"left\":\n",
    "            para.alignment = WD_PARAGRAPH_ALIGNMENT.LEFT\n",
    "        elif pos.lower() == \"mid\":\n",
    "            para.alignment = WD_PARAGRAPH_ALIGNMENT.CENTER\n",
    "        elif pos.lower() == \"right\":\n",
    "            para.alignment = WD_PARAGRAPH_ALIGNMENT.RIGHT\n",
    "        else:\n",
    "            raise ValueError(\"Invalid position value. Please use 'left', 'mid' or 'right'.\")\n",
    "        for run in para.runs:\n",
    "            run.font.size = Pt(10.5) # 五号字体\n",
    "            run.font.name = u\"宋体\"\n",
    "            run._element.rPr.rFonts.set(qn('w:eastAsia'), u'宋体')\n",
    "    return cell"
   ]
  },
  {
   "cell_type": "code",
   "execution_count": 118,
   "metadata": {},
   "outputs": [
    {
     "data": {
      "text/plain": [
       "(2864, 6)"
      ]
     },
     "execution_count": 118,
     "metadata": {},
     "output_type": "execute_result"
    }
   ],
   "source": [
    "df = pd.read_excel('../发出商品-函证-明细表.xlsx', sheet_name='发出商品明细大表')\n",
    "df.shape"
   ]
  },
  {
   "cell_type": "code",
   "execution_count": 119,
   "metadata": {},
   "outputs": [],
   "source": [
    "df.dropna(axis=0, inplace=True)\n",
    "df['年份'] = df['年份'].map(int)"
   ]
  },
  {
   "cell_type": "code",
   "execution_count": 120,
   "metadata": {},
   "outputs": [],
   "source": [
    "# # 测试模板\n",
    "# doc = Document('./example_发出商品.docx')\n",
    "# docx_find_replace_text(doc, '«name»', '这里是单位名称')\n",
    "# docx_find_replace_header(doc, '«c_id»', '这里是函证编号')\n",
    "# for i,table in enumerate(doc.tables):\n",
    "#     print(f'Table {i} has {len(table.rows)} rows and {len(table.columns)} columns.')"
   ]
  },
  {
   "cell_type": "code",
   "execution_count": 121,
   "metadata": {},
   "outputs": [
    {
     "data": {
      "text/plain": [
       "购货单位    object\n",
       "函证编号    object\n",
       "dtype: object"
      ]
     },
     "execution_count": 121,
     "metadata": {},
     "output_type": "execute_result"
    }
   ],
   "source": [
    "comp = pd.read_excel('../发出商品-函证-明细表.xlsx', sheet_name='发出商品公司编号')\n",
    "comp.dtypes"
   ]
  },
  {
   "cell_type": "code",
   "execution_count": 122,
   "metadata": {},
   "outputs": [
    {
     "data": {
      "text/plain": [
       "74"
      ]
     },
     "execution_count": 122,
     "metadata": {},
     "output_type": "execute_result"
    }
   ],
   "source": [
    "comp_name = comp['购货单位'].drop_duplicates().values\n",
    "len(comp_name)"
   ]
  },
  {
   "cell_type": "code",
   "execution_count": 123,
   "metadata": {},
   "outputs": [
    {
     "data": {
      "text/plain": [
       "74"
      ]
     },
     "execution_count": 123,
     "metadata": {},
     "output_type": "execute_result"
    }
   ],
   "source": [
    "c1 = df['购货单位'].drop_duplicates().values\n",
    "len(c1)"
   ]
  },
  {
   "cell_type": "code",
   "execution_count": 124,
   "metadata": {},
   "outputs": [
    {
     "data": {
      "text/plain": [
       "array(['北京计算机技术及应用研究所', '西安工业大学', '中国船舶集团有限公司第七二四研究所',\n",
       "       '中国电子科技集团公司第四十三研究所', '西安电子工程研究所', '北京无线电测量研究所', '中国长峰机电技术研究设计院',\n",
       "       '西安微电子技术研究所', '上海航天电子通讯设备研究所', '贵州航天林泉电机有限公司', '天津津航计算技术研究所',\n",
       "       '中国电子科技集团公司第五十五研究所', '中电科技（南京）电子信息发展有限公司',\n",
       "       '中电科技（南京）电子信息发展有限公司雨花分公司', '武汉中元通信股份有限公司', '北京航天微电科技有限公司',\n",
       "       '北京遥感设备研究所', '中国电子科技集团公司第二十六研究所', '洛阳隆盛科技有限责任公司', '南京长峰航天电子科技有限公司',\n",
       "       '南京科瑞达电子装备有限责任公司', '合肥华耀电子工业有限公司', '中国电子科技集团公司第二十四研究所',\n",
       "       '贵阳航空电机有限公司', '中国船舶集团有限公司第七一二研究所', '青岛航天半导体研究所有限公司',\n",
       "       '中国船舶集团有限公司第七0九研究所', '中航物资装备有限公司', '深圳市科思科技股份有限公司', '南京国睿防务系统有限公司',\n",
       "       '上海杰瑞兆新信息科技有限公司', '中电科蓉威电子技术有限公司', '成都天箭科技股份有限公司', '江苏无线电厂有限公司',\n",
       "       '成都云上飞腾电子科技有限公司', '西安霍威电源有限公司', '成都四威功率电子科技有限公司', '成都智明达电子股份有限公司',\n",
       "       '长沙湘计海盾科技有限公司', '上海瀚讯信息技术股份有限公司', '北京恒远盛宁科技有限公司', '成都宏明电子股份有限公司二厂',\n",
       "       '武汉宝威德电子有限公司', '南京长江电子信息产业集团有限公司', '中国电子科技集团公司第五十四研究所',\n",
       "       '四川合创益电子有限公司', '成都必控科技有限责任公司', 'Super Chip Ltd', '北京机械设备研究所',\n",
       "       '陕西雷能电子科技有限公司', '北京飞航捷迅物资有限责任公司', '北京华航无线电测量研究所', '北京微科能创科技有限公司',\n",
       "       '超越科技股份有限公司', '成都华普电器有限公司', '成都锐芯盛通电子科技有限公司', '成都天奥电子股份有限公司',\n",
       "       '河北汇能欣源电子技术有限公司', '陕西中科天地航空模块有限公司', '上海麟科电子科技有限责任公司', '上海唯力科技有限公司',\n",
       "       '深圳市磐鼎科技有限公司', '扬州海通电子科技有限公司', '中兵通信科技股份有限公司',\n",
       "       '中电科技（合肥）博微信息发展有限责任公司', '中国船舶集团有限公司第七二六研究所', '中国电子科技集团公司第三十六研究所',\n",
       "       '南京海之天科技有限公司', '太原航空仪表有限公司', '中国电子科技集团公司第四十四研究所',\n",
       "       '中国航天科工防御技术研究院物资供应站', '航天长峰朝阳电源有限公司', '中国兵器工业计算机应用技术研究所',\n",
       "       'Streamparts LLC'], dtype=object)"
      ]
     },
     "execution_count": 124,
     "metadata": {},
     "output_type": "execute_result"
    }
   ],
   "source": [
    "c1"
   ]
  },
  {
   "cell_type": "code",
   "execution_count": 125,
   "metadata": {},
   "outputs": [
    {
     "data": {
      "text/plain": [
       "年份        int64\n",
       "购货单位     object\n",
       "函证编码     object\n",
       "产品长代码    object\n",
       "产品名称     object\n",
       "实发数量      int64\n",
       "dtype: object"
      ]
     },
     "execution_count": 125,
     "metadata": {},
     "output_type": "execute_result"
    }
   ],
   "source": [
    "df.dtypes"
   ]
  },
  {
   "cell_type": "code",
   "execution_count": 126,
   "metadata": {},
   "outputs": [],
   "source": [
    "# temp = df[(df['购货单位']=='北京计算机技术及应用研究所') & (df['年份']==2022)]\n",
    "# temp = temp.groupby(['产品名称','产品长代码'])['实发数量'].sum()\n",
    "# temp = pd.DataFrame(temp).reset_index(['产品长代码', '产品名称'])\n",
    "# temp"
   ]
  },
  {
   "cell_type": "code",
   "execution_count": 127,
   "metadata": {},
   "outputs": [
    {
     "data": {
      "text/plain": [
       "Index(['年份', '购货单位', '函证编码', '产品长代码', '产品名称', '实发数量'], dtype='object')"
      ]
     },
     "execution_count": 127,
     "metadata": {},
     "output_type": "execute_result"
    }
   ],
   "source": [
    "df.columns"
   ]
  },
  {
   "cell_type": "code",
   "execution_count": 132,
   "metadata": {},
   "outputs": [],
   "source": [
    "# 根据每个公司不同的票据数，生成不同的行数\n",
    "for name in comp_name:\n",
    "    doc = Document('./example_发出商品.docx')\n",
    "    c_id = df[df['购货单位']==name]['函证编码'].drop_duplicates().values[0]\n",
    "    docx_find_replace_text(doc, '«c_id»', c_id)\n",
    "    docx_find_replace_text(doc, '«name»', name)\n",
    "    table_num = 0\n",
    "    \n",
    "    for year in [2020,2021,2022,2023]:\n",
    "        temp = df[(df['购货单位']==name) & (df['年份']==year)]\n",
    "        temp = temp.groupby(['产品名称','产品长代码'])['实发数量'].sum()\n",
    "        temp = pd.DataFrame(temp).reset_index(['产品长代码', '产品名称'])\n",
    "        r_num = temp.shape[0]\n",
    "        \n",
    "        if r_num==0: # 当年无记录 跳到下一个表格进行判断\n",
    "            table_num += 1\n",
    "            \n",
    "        else:   \n",
    "            for i in range(r_num):\n",
    "                adr = doc.tables[table_num].add_row()\n",
    "                adr.cells[0].text = '发出商品' ; set_cell_text_style(adr.cells[0], 'mid')# 发出科目\n",
    "                adr.cells[1].text = temp.iloc[i, 0].strip() ; set_cell_text_style(adr.cells[1], 'mid')# 产品名称\n",
    "                adr.cells[2].text = temp.iloc[i, 1].strip() ; set_cell_text_style(adr.cells[2], 'mid')# 产品长代码\n",
    "                adr.cells[3].text = \"{:,.2f}\".format(temp.iloc[i, 2]) ; set_cell_text_style(adr.cells[3], 'right')# 数量\n",
    "                adr.cells[4].text = '否' ; set_cell_text_style(adr.cells[4], 'mid')# 是否有留置权\n",
    "                adr.cells[5].text = '良好' ; set_cell_text_style(adr.cells[5], 'mid')# 状况\n",
    "    \n",
    "                \n",
    "            # 循环结束后删除第二行\n",
    "            row = doc.tables[table_num].rows[1]._element\n",
    "            row.getparent().remove(row)\n",
    "            # 发出商品不需要合计\n",
    "            # # 循环结束后增加合计部分\n",
    "            # row_cells = doc.tables[table_num].add_row().cells\n",
    "            # merged_cell = row_cells[0].merge(row_cells[1]).merge(row_cells[2]).merge(row_cells[3]).merge(row_cells[4])\\\n",
    "            #     .merge(row_cells[5]).merge(row_cells[6])\n",
    "\n",
    "            # # 将合并后的单元格的文本设置为\"合计\"\n",
    "            # merged_cell.text = '合计:' ; set_cell_text_style(merged_cell, 'mid')\n",
    "            # row_cells[7].text = \"{:,.2f}\".format(heji[name].get(year, '无')) ; set_cell_text_style(row_cells[7], 'right') # 合计金额\n",
    "            # # # 获取单元格中的第一个段落\n",
    "            # # para = merged_cell.paragraphs[0]\n",
    "\n",
    "            # # # 设置段落的对齐方式为居中\n",
    "            # # para.alignment = 'WD_PARAGRAPH_ALIGNMENT.CENTER'\n",
    "\n",
    "            # # # 设置段落的字体为宋体，大小为5号\n",
    "            # # run = para.runs[0]\n",
    "            # # run.font.name = '宋体'\n",
    "            # # run.font.size = Pt(21)  # 五号字对应21磅\n",
    "            table_num += 1\n",
    "                    \n",
    "    doc.save(f'../3.2发出商品/{name}-发出商品询证函.docx')\n",
    "\n"
   ]
  },
  {
   "cell_type": "code",
   "execution_count": null,
   "metadata": {},
   "outputs": [],
   "source": []
  }
 ],
 "metadata": {
  "kernelspec": {
   "display_name": "data39",
   "language": "python",
   "name": "python3"
  },
  "language_info": {
   "codemirror_mode": {
    "name": "ipython",
    "version": 3
   },
   "file_extension": ".py",
   "mimetype": "text/x-python",
   "name": "python",
   "nbconvert_exporter": "python",
   "pygments_lexer": "ipython3",
   "version": "3.9.16"
  },
  "orig_nbformat": 4
 },
 "nbformat": 4,
 "nbformat_minor": 2
}
