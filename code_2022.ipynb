{
 "cells": [
  {
   "cell_type": "code",
   "execution_count": 28,
   "metadata": {},
   "outputs": [],
   "source": [
    "import numpy as np\n",
    "import pandas as pd\n",
    "import xlwings as xw"
   ]
  },
  {
   "cell_type": "code",
   "execution_count": 29,
   "metadata": {},
   "outputs": [],
   "source": [
    "hebing = [\n",
    "    '中国航天科工集团',\n",
    "'中国电子科技集团',\n",
    "'中国航天科技集团',\n",
    "'中国船舶集团',\n",
    "'中国航空工业集团',\n",
    "'中国电子信息产业集团',\n",
    "'中国兵器工业集团',\n",
    "'杨茂富',\n",
    "'智明达',\n",
    "'上海瀚讯',\n",
    "'江滔',\n",
    "'唐富奎',\n",
    "'藏朝峰',\n",
    "'王晓燕',\n",
    "'杜春香',\n",
    "'香港艾特技術有限公司',\n",
    "'王柯',\n",
    "'Orbis',\n",
    "'Super Chip',\n",
    "'刘英',\n",
    "'李海鹏',\n",
    "'楼继勇',\n",
    "'康达新材',\n",
    "'中国兵器装备集团',\n",
    "'陈建新'\n",
    "]"
   ]
  },
  {
   "cell_type": "code",
   "execution_count": 30,
   "metadata": {},
   "outputs": [
    {
     "data": {
      "text/plain": [
       "序号                   int64\n",
       "日期          datetime64[ns]\n",
       "销售主体                object\n",
       "年度                   int64\n",
       "月份                   int64\n",
       "发票号码                object\n",
       "客户代码                object\n",
       "客户名称                object\n",
       "工商名称                object\n",
       "合并口径                object\n",
       "客户名称（原始）            object\n",
       "销售类型                object\n",
       "客户类型1               object\n",
       "客户类型2               object\n",
       "合并口径.1              object\n",
       "客户代码.1              object\n",
       "地区                  object\n",
       "主营/其他               object\n",
       "产品代码                object\n",
       "从杰瑞采购              float64\n",
       "产品名称                object\n",
       "砖型                  object\n",
       "档位                  object\n",
       "数量                   int64\n",
       "销售含税单价             float64\n",
       "不含税销售额             float64\n",
       "审定总成本              float64\n",
       "规格型号               float64\n",
       "批号                  object\n",
       "销售订单号               object\n",
       "源单单号                object\n",
       "合同号                 object\n",
       "合同签订时间             float64\n",
       "出库日期        datetime64[ns]\n",
       "发货仓库                object\n",
       "凭证号                 object\n",
       "业务员                 object\n",
       "FNote               object\n",
       "年                  float64\n",
       "dtype: object"
      ]
     },
     "execution_count": 30,
     "metadata": {},
     "output_type": "execute_result"
    }
   ],
   "source": [
    "df = pd.read_excel('../收入成本大表2020-2022.xlsx', sheet_name='2022')\n",
    "df.dtypes"
   ]
  },
  {
   "cell_type": "code",
   "execution_count": 31,
   "metadata": {},
   "outputs": [],
   "source": [
    "comp = {}  # comp[合并口径]=下属公司 1、客户年总销售量大于20万\n",
    "for i in hebing:\n",
    "    temp = df[df['合并口径']==i].groupby('工商名称')['不含税销售额'].agg(np.sum).sort_values()\n",
    "    comp_name = temp[temp>=200000].index\n",
    "    comp[i] =comp_name"
   ]
  },
  {
   "cell_type": "code",
   "execution_count": 32,
   "metadata": {},
   "outputs": [
    {
     "data": {
      "text/plain": [
       "72"
      ]
     },
     "execution_count": 32,
     "metadata": {},
     "output_type": "execute_result"
    }
   ],
   "source": [
    "n = 0\n",
    "for i in range(len(hebing)):\n",
    "    a = len(comp[hebing[i]])\n",
    "    n += a    \n",
    "n"
   ]
  },
  {
   "cell_type": "code",
   "execution_count": 33,
   "metadata": {},
   "outputs": [],
   "source": [
    "contracts ={}  # contracts[公司名称]=合同编号 2、抽取金额最大的三个合同，\n",
    "for i in hebing:\n",
    "    for j in comp[i]:\n",
    "        temp = df[(df['工商名称']==j) & (df['合并口径']==i)].groupby('合同号')['不含税销售额'].agg(np.sum).sort_values(ascending=False)\n",
    "        if len(temp)<=3:\n",
    "            contracts[j] = temp.index\n",
    "        else:\n",
    "            contracts[j] = temp.index[0:3]\n",
    "            "
   ]
  },
  {
   "cell_type": "code",
   "execution_count": 34,
   "metadata": {},
   "outputs": [
    {
     "data": {
      "text/plain": [
       "(1088, 39)"
      ]
     },
     "execution_count": 34,
     "metadata": {},
     "output_type": "execute_result"
    }
   ],
   "source": [
    "out = pd.DataFrame()\n",
    "for i in hebing: # 集团\n",
    "    for j in comp[i]: # 公司\n",
    "        for c_id in contracts[j]: # 合同\n",
    "            temp = df[(df['合同号']==c_id) & (df['合并口径']==i) & (df['工商名称']==j)]           \n",
    "            out = pd.concat([out, temp])\n",
    "out.shape"
   ]
  },
  {
   "cell_type": "code",
   "execution_count": 35,
   "metadata": {},
   "outputs": [],
   "source": [
    "out['合同金额'] = out['数量']*out['销售含税单价']\n",
    "out.rename(columns={'源单单号':'出库单号', 'FNote': '快递单号'}, inplace=True)"
   ]
  },
  {
   "cell_type": "code",
   "execution_count": 36,
   "metadata": {},
   "outputs": [],
   "source": [
    "out = out[['合并口径','工商名称','合同号','产品代码','数量','销售含税单价','合同金额',\\\n",
    "    '出库日期', '出库单号','不含税销售额' ,'日期' ,'发票号码','凭证号','快递单号']]"
   ]
  },
  {
   "cell_type": "code",
   "execution_count": 37,
   "metadata": {},
   "outputs": [
    {
     "data": {
      "text/plain": [
       "合并口径              object\n",
       "工商名称              object\n",
       "合同号               object\n",
       "产品代码              object\n",
       "数量                 int64\n",
       "销售含税单价           float64\n",
       "合同金额             float64\n",
       "出库日期      datetime64[ns]\n",
       "出库单号              object\n",
       "不含税销售额           float64\n",
       "日期        datetime64[ns]\n",
       "发票号码              object\n",
       "凭证号               object\n",
       "快递单号              object\n",
       "dtype: object"
      ]
     },
     "execution_count": 37,
     "metadata": {},
     "output_type": "execute_result"
    }
   ],
   "source": [
    "out.dtypes"
   ]
  },
  {
   "cell_type": "code",
   "execution_count": 38,
   "metadata": {},
   "outputs": [
    {
     "data": {
      "text/plain": [
       "(1088, 14)"
      ]
     },
     "execution_count": 38,
     "metadata": {},
     "output_type": "execute_result"
    }
   ],
   "source": [
    "# out.to_excel('../out.xlsx', index=False, encoding='utf-8')\n",
    "out.shape"
   ]
  },
  {
   "cell_type": "code",
   "execution_count": 39,
   "metadata": {},
   "outputs": [
    {
     "data": {
      "text/plain": [
       "客户名称                object\n",
       "客户代码/名称             object\n",
       "底稿索引号               object\n",
       "收入凭证年月              object\n",
       "凭证号                 object\n",
       "收入金额               float64\n",
       "合同号                 object\n",
       "标的物型号               object\n",
       "单个售价               float64\n",
       "合同数量                 int64\n",
       "合同金额（含税）           float64\n",
       "出库时间                object\n",
       "出库单号                object\n",
       "发票号码                object\n",
       "开票日期        datetime64[ns]\n",
       "客户签收确认时间            object\n",
       "快递公司                object\n",
       "快递单号                object\n",
       "发件时间                object\n",
       "回款凭证日期              object\n",
       "回款凭证号               object\n",
       "对方科目                object\n",
       "回款金额                object\n",
       "票据类型                object\n",
       "dtype: object"
      ]
     },
     "execution_count": 39,
     "metadata": {},
     "output_type": "execute_result"
    }
   ],
   "source": [
    "dongfang = pd.read_excel('../东方-收入测试-2022.xlsx', skiprows=3, usecols=[i for i in range(24)])\n",
    "dongfang.fillna('', inplace=True)\n",
    "dongfang.dtypes"
   ]
  },
  {
   "cell_type": "code",
   "execution_count": 40,
   "metadata": {},
   "outputs": [],
   "source": [
    "dongfang.rename(columns={'客户名称':'工商名称','标的物型号':'产品代码','合同数量':'数量','合同金额（含税）':'合同金额'}, inplace=True)"
   ]
  },
  {
   "cell_type": "code",
   "execution_count": 41,
   "metadata": {},
   "outputs": [
    {
     "data": {
      "text/plain": [
       "(1088, 33)"
      ]
     },
     "execution_count": 41,
     "metadata": {},
     "output_type": "execute_result"
    }
   ],
   "source": [
    "new = out.merge(dongfang, how='left', on=['工商名称','合同号','产品代码','数量','出库单号'])\n",
    "new.shape"
   ]
  },
  {
   "cell_type": "code",
   "execution_count": 42,
   "metadata": {},
   "outputs": [
    {
     "data": {
      "text/plain": [
       "Index(['合并口径', '工商名称', '合同号', '产品代码', '数量', '销售含税单价', '合同金额_x', '出库日期', '出库单号',\n",
       "       '不含税销售额', '日期', '发票号码_x', '凭证号_x', '快递单号_x', '客户代码/名称', '底稿索引号',\n",
       "       '收入凭证年月', '凭证号_y', '收入金额', '单个售价', '合同金额_y', '出库时间', '发票号码_y', '开票日期',\n",
       "       '客户签收确认时间', '快递公司', '快递单号_y', '发件时间', '回款凭证日期', '回款凭证号', '对方科目', '回款金额',\n",
       "       '票据类型'],\n",
       "      dtype='object')"
      ]
     },
     "execution_count": 42,
     "metadata": {},
     "output_type": "execute_result"
    }
   ],
   "source": [
    "new.columns"
   ]
  },
  {
   "cell_type": "code",
   "execution_count": 43,
   "metadata": {},
   "outputs": [],
   "source": [
    "new['销售收入凭证'] = new['收入凭证年月']+'/'+new['凭证号_y']"
   ]
  },
  {
   "cell_type": "code",
   "execution_count": 44,
   "metadata": {},
   "outputs": [],
   "source": [
    "new['货款结算方式'] = new['回款凭证号']+'/'+new['对方科目']+'/'+new['票据类型']"
   ]
  },
  {
   "cell_type": "code",
   "execution_count": 46,
   "metadata": {},
   "outputs": [],
   "source": [
    "new = new[['合并口径','工商名称','合同号','产品代码','数量','销售含税单价','合同金额_x','出库日期','出库单号',\\\n",
    "    '快递公司', '快递单号_y','发件时间','客户签收确认时间','开票日期','发票号码_x','不含税销售额',\\\n",
    "        '销售收入凭证', '收入金额','货款结算方式','底稿索引号','回款凭证日期','回款金额']]"
   ]
  },
  {
   "cell_type": "code",
   "execution_count": 47,
   "metadata": {},
   "outputs": [],
   "source": [
    "new.to_excel('../new.xlsx', index=0, encoding='utf-8')"
   ]
  },
  {
   "cell_type": "code",
   "execution_count": null,
   "metadata": {},
   "outputs": [],
   "source": [
    "# 图片转pdf之后合并的代码"
   ]
  }
 ],
 "metadata": {
  "kernelspec": {
   "display_name": "data39",
   "language": "python",
   "name": "python3"
  },
  "language_info": {
   "codemirror_mode": {
    "name": "ipython",
    "version": 3
   },
   "file_extension": ".py",
   "mimetype": "text/x-python",
   "name": "python",
   "nbconvert_exporter": "python",
   "pygments_lexer": "ipython3",
   "version": "3.9.16"
  },
  "orig_nbformat": 4
 },
 "nbformat": 4,
 "nbformat_minor": 2
}
