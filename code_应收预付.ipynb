{
 "cells": [
  {
   "cell_type": "code",
   "execution_count": 1,
   "metadata": {},
   "outputs": [],
   "source": [
    "import numpy as np\n",
    "import pandas as pd\n",
    "from docx import Document\n",
    "from docx.shared import Pt\n",
    "from docx.oxml.ns import qn\n",
    "from docx.enum.text import WD_PARAGRAPH_ALIGNMENT\n",
    "from docx.enum.table import WD_ALIGN_VERTICAL"
   ]
  },
  {
   "cell_type": "code",
   "execution_count": 2,
   "metadata": {},
   "outputs": [],
   "source": [
    "# 定义函数\n",
    "def docx_find_replace_text(doc, search_text, replace_text):\n",
    "    for paragraph in doc.paragraphs:\n",
    "        if search_text in paragraph.text:\n",
    "            for run in paragraph.runs:\n",
    "                if search_text in run.text:\n",
    "                    run.text = run.text.replace(search_text, replace_text)\n",
    "\n",
    "# docx_find_replace_text(doc, '«name»', 'new text')\n",
    "\n",
    "# 替换编号\n",
    "# def docx_find_replace_header(doc, search_text, replace_text):\n",
    "#     for section in doc.sections:\n",
    "#         header = section.header  # 获取节的页眉\n",
    "#         for paragraph in header.paragraphs:  # 遍历页眉的每个段落\n",
    "#             if search_text in paragraph.text:\n",
    "#                 for run in paragraph.runs:\n",
    "#                     if search_text in run.text:\n",
    "#                         run.text = run.text.replace(search_text, replace_text)\n",
    "\n",
    "# docx_find_replace_header(doc, '«c_id»', 'new text')\n",
    "\n",
    "#确定样式\n",
    "def set_cell_text_style(cell, pos): \n",
    "    cell.vertical_alignment = WD_ALIGN_VERTICAL.CENTER # 垂直居中\n",
    "    for para in cell.paragraphs:\n",
    "        if pos.lower() == \"left\":\n",
    "            para.alignment = WD_PARAGRAPH_ALIGNMENT.LEFT\n",
    "        elif pos.lower() == \"mid\":\n",
    "            para.alignment = WD_PARAGRAPH_ALIGNMENT.CENTER\n",
    "        elif pos.lower() == \"right\":\n",
    "            para.alignment = WD_PARAGRAPH_ALIGNMENT.RIGHT\n",
    "        else:\n",
    "            raise ValueError(\"Invalid position value. Please use 'left', 'mid' or 'right'.\")\n",
    "        for run in para.runs:\n",
    "            run.font.size = Pt(10.5) # 五号字体\n",
    "            run.font.name = u\"宋体\"\n",
    "            run._element.rPr.rFonts.set(qn('w:eastAsia'), u'宋体')\n",
    "    return cell"
   ]
  },
  {
   "cell_type": "code",
   "execution_count": 3,
   "metadata": {},
   "outputs": [
    {
     "data": {
      "text/plain": [
       "函证编号        object\n",
       "主体          object\n",
       "第三方名称       object\n",
       "2020        object\n",
       "2021        object\n",
       "2022        object\n",
       "期初余额.1     float64\n",
       "借方发生额.1    float64\n",
       "贷方发生额.1    float64\n",
       "期末余额.1     float64\n",
       "期初余额.2     float64\n",
       "借方发生额.2    float64\n",
       "贷方发生额.2    float64\n",
       "期末余额.2     float64\n",
       "期初余额.3     float64\n",
       "借方发生额.3    float64\n",
       "贷方发生额.3    float64\n",
       "期末余额.3     float64\n",
       "期初余额.4     float64\n",
       "借方发生额.4    float64\n",
       "贷方发生额.4    float64\n",
       "期末余额.4     float64\n",
       "函证地址        object\n",
       "收件人         object\n",
       "联系方式        object\n",
       "dtype: object"
      ]
     },
     "execution_count": 3,
     "metadata": {},
     "output_type": "execute_result"
    }
   ],
   "source": [
    "df = pd.read_excel('../应收预收-函证-汇总表.xlsx', skiprows=1, sheet_name='上海军陶应收函证')\n",
    "df.dtypes"
   ]
  },
  {
   "cell_type": "code",
   "execution_count": 4,
   "metadata": {},
   "outputs": [
    {
     "data": {
      "text/plain": [
       "110"
      ]
     },
     "execution_count": 4,
     "metadata": {},
     "output_type": "execute_result"
    }
   ],
   "source": [
    "comp_id = df['函证编号'].drop_duplicates().values\n",
    "len(comp_id)"
   ]
  },
  {
   "cell_type": "code",
   "execution_count": 6,
   "metadata": {},
   "outputs": [],
   "source": [
    "# 按照每一行去填就行\n",
    "for c_id in comp_id:\n",
    "    name = df[df['函证编号']==c_id]['第三方名称'].values[0]\n",
    "    temp = df[df['函证编号']==c_id].iloc[:,[i for i in range(6,22)]].values.reshape(4,4)\n",
    "    doc = Document('./example_应收预收.docx')  \n",
    "    docx_find_replace_text(doc, '«name»', name)\n",
    "    docx_find_replace_text(doc, '«c_id»', c_id)\n",
    "    for i in range(4):\n",
    "        row = doc.tables[0].rows[i+1]\n",
    "        for j in range(4):\n",
    "            row.cells[j+2].text = '{:,.2f}'.format(temp[i,j])\n",
    "            set_cell_text_style(row.cells[j+2], 'right')\n",
    "            \n",
    "    doc.save(f'../4.1应收预付/{name}-应收预收函证.docx')\n",
    "              \n"
   ]
  },
  {
   "cell_type": "code",
   "execution_count": 7,
   "metadata": {},
   "outputs": [
    {
     "data": {
      "text/plain": [
       "array([[      0. ,       0. ,       0. ,       0. ],\n",
       "       [      0. ,       0. ,       0. ,       0. ],\n",
       "       [      0. ,   48002.4,       0. ,   48002.4],\n",
       "       [  48002.4, 2169600. ,   48002.4, 2169600. ]])"
      ]
     },
     "execution_count": 7,
     "metadata": {},
     "output_type": "execute_result"
    }
   ],
   "source": [
    "temp"
   ]
  },
  {
   "cell_type": "code",
   "execution_count": null,
   "metadata": {},
   "outputs": [],
   "source": []
  }
 ],
 "metadata": {
  "kernelspec": {
   "display_name": "data39",
   "language": "python",
   "name": "python3"
  },
  "language_info": {
   "codemirror_mode": {
    "name": "ipython",
    "version": 3
   },
   "file_extension": ".py",
   "mimetype": "text/x-python",
   "name": "python",
   "nbconvert_exporter": "python",
   "pygments_lexer": "ipython3",
   "version": "3.9.16"
  },
  "orig_nbformat": 4
 },
 "nbformat": 4,
 "nbformat_minor": 2
}
