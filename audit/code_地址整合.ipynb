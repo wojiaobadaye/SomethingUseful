{
 "cells": [
  {
   "cell_type": "code",
   "execution_count": 43,
   "metadata": {},
   "outputs": [],
   "source": [
    "import numpy as np\n",
    "import pandas as pd\n"
   ]
  },
  {
   "cell_type": "code",
   "execution_count": 44,
   "metadata": {},
   "outputs": [
    {
     "data": {
      "text/plain": [
       "被询证单位    object\n",
       "函证地址     object\n",
       "收件人      object\n",
       "联系方式     object\n",
       "dtype: object"
      ]
     },
     "execution_count": 44,
     "metadata": {},
     "output_type": "execute_result"
    }
   ],
   "source": [
    "yspj = pd.read_excel('../应收票据-函证-明细表.xlsx', sheet_name='2应收票据',usecols=[2,11,13,15])\n",
    "yspj.dtypes"
   ]
  },
  {
   "cell_type": "code",
   "execution_count": 45,
   "metadata": {},
   "outputs": [],
   "source": [
    "yspj.drop_duplicates(inplace=True)"
   ]
  },
  {
   "cell_type": "code",
   "execution_count": 46,
   "metadata": {},
   "outputs": [],
   "source": [
    "yspj.columns = ['公司','函证地址','收件人','联系方式']"
   ]
  },
  {
   "cell_type": "code",
   "execution_count": 47,
   "metadata": {},
   "outputs": [
    {
     "data": {
      "text/plain": [
       "(96, 4)"
      ]
     },
     "execution_count": 47,
     "metadata": {},
     "output_type": "execute_result"
    }
   ],
   "source": [
    "yspj.shape"
   ]
  },
  {
   "cell_type": "code",
   "execution_count": 48,
   "metadata": {},
   "outputs": [
    {
     "data": {
      "text/plain": [
       "第三方名称    object\n",
       "函证地址     object\n",
       "收件人      object\n",
       "联系方式     object\n",
       "dtype: object"
      ]
     },
     "execution_count": 48,
     "metadata": {},
     "output_type": "execute_result"
    }
   ],
   "source": [
    "# 发出商品\n",
    "fcsp = pd.read_excel('../发出商品-函证-明细表.xlsx', sheet_name='3.2发出商品', usecols=[1, 7,8,9], skiprows=2)\n",
    "fcsp.dtypes"
   ]
  },
  {
   "cell_type": "code",
   "execution_count": 49,
   "metadata": {},
   "outputs": [],
   "source": [
    "fcsp.columns = ['公司','函证地址','收件人','联系方式']\n",
    "fcsp.drop_duplicates(inplace=True)"
   ]
  },
  {
   "cell_type": "code",
   "execution_count": 50,
   "metadata": {},
   "outputs": [
    {
     "data": {
      "text/plain": [
       "函证编号            object\n",
       "主体              object\n",
       "第三方名称           object\n",
       "2020            object\n",
       "2021            object\n",
       "2022            object\n",
       "期初余额.1         float64\n",
       "借方发生额.1        float64\n",
       "贷方发生额.1        float64\n",
       "期末余额.1         float64\n",
       "期初余额.2         float64\n",
       "借方发生额.2        float64\n",
       "贷方发生额.2        float64\n",
       "期末余额.2         float64\n",
       "期初余额.3         float64\n",
       "借方发生额.3        float64\n",
       "贷方发生额.3        float64\n",
       "期末余额.3         float64\n",
       "期初余额.4         float64\n",
       "借方发生额.4        float64\n",
       "贷方发生额.4        float64\n",
       "期末余额.4         float64\n",
       "函证地址            object\n",
       "收件人             object\n",
       "联系方式            object\n",
       "Unnamed: 25    float64\n",
       "Unnamed: 26    float64\n",
       "dtype: object"
      ]
     },
     "execution_count": 50,
     "metadata": {},
     "output_type": "execute_result"
    }
   ],
   "source": [
    "# 应收预付\n",
    "ysyf = pd.read_excel('../应收预收-函证-汇总表.xlsx', skiprows=1)\n",
    "ysyf.dtypes"
   ]
  },
  {
   "cell_type": "code",
   "execution_count": 51,
   "metadata": {},
   "outputs": [],
   "source": [
    "ysyf = ysyf[['第三方名称','函证地址','收件人','联系方式']]\n",
    "ysyf.columns = ['公司','函证地址','收件人','联系方式']"
   ]
  },
  {
   "cell_type": "code",
   "execution_count": 52,
   "metadata": {},
   "outputs": [],
   "source": [
    "ysyf.drop_duplicates(inplace=True)"
   ]
  },
  {
   "cell_type": "code",
   "execution_count": 53,
   "metadata": {},
   "outputs": [
    {
     "data": {
      "text/plain": [
       "公司      object\n",
       "函证地址    object\n",
       "收件人     object\n",
       "联系方式    object\n",
       "dtype: object"
      ]
     },
     "execution_count": 53,
     "metadata": {},
     "output_type": "execute_result"
    }
   ],
   "source": [
    "ysyf.dtypes"
   ]
  },
  {
   "cell_type": "code",
   "execution_count": 54,
   "metadata": {},
   "outputs": [
    {
     "data": {
      "text/html": [
       "<div>\n",
       "<style scoped>\n",
       "    .dataframe tbody tr th:only-of-type {\n",
       "        vertical-align: middle;\n",
       "    }\n",
       "\n",
       "    .dataframe tbody tr th {\n",
       "        vertical-align: top;\n",
       "    }\n",
       "\n",
       "    .dataframe thead th {\n",
       "        text-align: right;\n",
       "    }\n",
       "</style>\n",
       "<table border=\"1\" class=\"dataframe\">\n",
       "  <thead>\n",
       "    <tr style=\"text-align: right;\">\n",
       "      <th></th>\n",
       "      <th>公司</th>\n",
       "      <th>函证地址</th>\n",
       "      <th>收件人</th>\n",
       "      <th>联系方式</th>\n",
       "    </tr>\n",
       "  </thead>\n",
       "  <tbody>\n",
       "    <tr>\n",
       "      <th>0</th>\n",
       "      <td>北京飞航捷迅物资有限责任公司</td>\n",
       "      <td>北京市丰台区云岗北区西里1号</td>\n",
       "      <td>兰海波</td>\n",
       "      <td>15311197199</td>\n",
       "    </tr>\n",
       "    <tr>\n",
       "      <th>3</th>\n",
       "      <td>北京恒远盛宁科技有限公司</td>\n",
       "      <td>北京市朝阳区惠新西街33号4号楼1104</td>\n",
       "      <td>焦陽</td>\n",
       "      <td>13811757200</td>\n",
       "    </tr>\n",
       "    <tr>\n",
       "      <th>4</th>\n",
       "      <td>北京恒远盛宁科技有限公司</td>\n",
       "      <td>北京市朝阳区惠新西街33号4号楼1105</td>\n",
       "      <td>焦陽</td>\n",
       "      <td>13811757201</td>\n",
       "    </tr>\n",
       "    <tr>\n",
       "      <th>5</th>\n",
       "      <td>北京华航无线电测量研究所</td>\n",
       "      <td>北京市房山区长阳镇清苑北街长阳航天城电子科技园三院</td>\n",
       "      <td>刘斌鑫</td>\n",
       "      <td>13810989726</td>\n",
       "    </tr>\n",
       "    <tr>\n",
       "      <th>16</th>\n",
       "      <td>北京计算机技术及应用研究所</td>\n",
       "      <td>北京市海淀区永定路52号院航天二院东院南门</td>\n",
       "      <td>梁辉</td>\n",
       "      <td>13501313175</td>\n",
       "    </tr>\n",
       "    <tr>\n",
       "      <th>...</th>\n",
       "      <td>...</td>\n",
       "      <td>...</td>\n",
       "      <td>...</td>\n",
       "      <td>...</td>\n",
       "    </tr>\n",
       "    <tr>\n",
       "      <th>121</th>\n",
       "      <td>北京星达科技发展有限公司</td>\n",
       "      <td>北京市海淀区知春路63号</td>\n",
       "      <td>龙涛</td>\n",
       "      <td>010-62554356 13693094163</td>\n",
       "    </tr>\n",
       "    <tr>\n",
       "      <th>122</th>\n",
       "      <td>西安创蓝星云科技有限公司</td>\n",
       "      <td>西安市高新区锦业一路56号研祥城市广场A座</td>\n",
       "      <td>郝玉娟</td>\n",
       "      <td>13991642069</td>\n",
       "    </tr>\n",
       "    <tr>\n",
       "      <th>123</th>\n",
       "      <td>江苏展芯半导体技术有限公司</td>\n",
       "      <td>NaN</td>\n",
       "      <td>NaN</td>\n",
       "      <td>NaN</td>\n",
       "    </tr>\n",
       "    <tr>\n",
       "      <th>124</th>\n",
       "      <td>上海强松航空科技有限公司</td>\n",
       "      <td>NaN</td>\n",
       "      <td>NaN</td>\n",
       "      <td>NaN</td>\n",
       "    </tr>\n",
       "    <tr>\n",
       "      <th>125</th>\n",
       "      <td>NaN</td>\n",
       "      <td>NaN</td>\n",
       "      <td>NaN</td>\n",
       "      <td>NaN</td>\n",
       "    </tr>\n",
       "  </tbody>\n",
       "</table>\n",
       "<p>296 rows × 4 columns</p>\n",
       "</div>"
      ],
      "text/plain": [
       "                 公司                       函证地址  收件人                      联系方式\n",
       "0    北京飞航捷迅物资有限责任公司             北京市丰台区云岗北区西里1号  兰海波               15311197199\n",
       "3      北京恒远盛宁科技有限公司       北京市朝阳区惠新西街33号4号楼1104   焦陽               13811757200\n",
       "4      北京恒远盛宁科技有限公司       北京市朝阳区惠新西街33号4号楼1105   焦陽               13811757201\n",
       "5      北京华航无线电测量研究所  北京市房山区长阳镇清苑北街长阳航天城电子科技园三院  刘斌鑫               13810989726\n",
       "16    北京计算机技术及应用研究所      北京市海淀区永定路52号院航天二院东院南门   梁辉               13501313175\n",
       "..              ...                        ...  ...                       ...\n",
       "121    北京星达科技发展有限公司               北京市海淀区知春路63号   龙涛  010-62554356 13693094163\n",
       "122    西安创蓝星云科技有限公司      西安市高新区锦业一路56号研祥城市广场A座  郝玉娟               13991642069\n",
       "123   江苏展芯半导体技术有限公司                        NaN  NaN                       NaN\n",
       "124    上海强松航空科技有限公司                        NaN  NaN                       NaN\n",
       "125             NaN                        NaN  NaN                       NaN\n",
       "\n",
       "[296 rows x 4 columns]"
      ]
     },
     "execution_count": 54,
     "metadata": {},
     "output_type": "execute_result"
    }
   ],
   "source": [
    "df = pd.concat([yspj, fcsp, ysyf], axis=0)\n",
    "df"
   ]
  },
  {
   "cell_type": "code",
   "execution_count": 55,
   "metadata": {},
   "outputs": [],
   "source": [
    "df.dropna(axis=0, how='all',inplace=True)"
   ]
  },
  {
   "cell_type": "code",
   "execution_count": 56,
   "metadata": {},
   "outputs": [],
   "source": [
    "df.drop_duplicates(inplace=True)"
   ]
  },
  {
   "cell_type": "code",
   "execution_count": 57,
   "metadata": {},
   "outputs": [],
   "source": [
    "df.reset_index(drop=True, inplace=True)"
   ]
  },
  {
   "cell_type": "code",
   "execution_count": 58,
   "metadata": {},
   "outputs": [
    {
     "data": {
      "text/plain": [
       "(182, 4)"
      ]
     },
     "execution_count": 58,
     "metadata": {},
     "output_type": "execute_result"
    }
   ],
   "source": [
    "df.shape"
   ]
  },
  {
   "cell_type": "code",
   "execution_count": 59,
   "metadata": {},
   "outputs": [],
   "source": [
    "df.to_excel('发函地址汇总.xlsx', encoding='utf-8', index=False)"
   ]
  },
  {
   "cell_type": "code",
   "execution_count": null,
   "metadata": {},
   "outputs": [],
   "source": [
    "kj = pd.read_excel('./')"
   ]
  },
  {
   "cell_type": "code",
   "execution_count": null,
   "metadata": {},
   "outputs": [],
   "source": []
  }
 ],
 "metadata": {
  "kernelspec": {
   "display_name": "data39",
   "language": "python",
   "name": "python3"
  },
  "language_info": {
   "codemirror_mode": {
    "name": "ipython",
    "version": 3
   },
   "file_extension": ".py",
   "mimetype": "text/x-python",
   "name": "python",
   "nbconvert_exporter": "python",
   "pygments_lexer": "ipython3",
   "version": "3.9.16"
  },
  "orig_nbformat": 4
 },
 "nbformat": 4,
 "nbformat_minor": 2
}
