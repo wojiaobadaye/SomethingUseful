{
 "cells": [
  {
   "cell_type": "code",
   "execution_count": 1,
   "metadata": {},
   "outputs": [],
   "source": [
    "import numpy as np\n",
    "import pandas as pd\n",
    "from myfunc import date2str\n",
    "from pandas.tseries.offsets import MonthEnd"
   ]
  },
  {
   "cell_type": "code",
   "execution_count": 2,
   "metadata": {},
   "outputs": [],
   "source": [
    "# 2021年"
   ]
  },
  {
   "cell_type": "code",
   "execution_count": 3,
   "metadata": {},
   "outputs": [
    {
     "data": {
      "text/plain": [
       "Unnamed: 0             object\n",
       "合并口径                   object\n",
       "客户工商名称                 object\n",
       "合同号                    object\n",
       "产品代码                   object\n",
       "合同数量                    int64\n",
       "销售单价                  float64\n",
       "合同金额                  float64\n",
       "日期             datetime64[ns]\n",
       "编号                     object\n",
       "数量                      int64\n",
       "发货日期                   object\n",
       "快递编号                   object\n",
       "数量.1                  float64\n",
       "是否适用                  float64\n",
       "数量.2                  float64\n",
       "日期.1                  float64\n",
       "是否适用.1                float64\n",
       "数量.3                  float64\n",
       "日期.2                  float64\n",
       "是否适用.2                float64\n",
       "数量.4                  float64\n",
       "日期.3                  float64\n",
       "单据类型                   object\n",
       "数量.5                    int64\n",
       "日期.4                   object\n",
       "签收单位                   object\n",
       "日期.5                   object\n",
       "编号.1                   object\n",
       "数量.6                    int64\n",
       "金额                    float64\n",
       "凭证号                    object\n",
       "日期.6                   object\n",
       "金额.1                  float64\n",
       "数量.7                    int64\n",
       "摘要                    float64\n",
       "Unnamed: 36            object\n",
       "日期.7           datetime64[ns]\n",
       "金额.2                   object\n",
       "对方名称                   object\n",
       "日期.8           datetime64[ns]\n",
       "金额.3                  float64\n",
       "对方名称.1                 object\n",
       "Unnamed: 43           float64\n",
       "Unnamed: 44            object\n",
       "会计师底稿                  object\n",
       "dtype: object"
      ]
     },
     "execution_count": 3,
     "metadata": {},
     "output_type": "execute_result"
    }
   ],
   "source": [
    "df = pd.read_excel('../2-2-7.xlsx', skiprows=3, sheet_name='2021')\n",
    "df.dtypes"
   ]
  },
  {
   "cell_type": "code",
   "execution_count": 4,
   "metadata": {},
   "outputs": [],
   "source": [
    "df = df[['合并口径','客户工商名称','合同号','产品代码','合同数量','销售单价','合同金额',\\\n",
    "    '日期','编号','数量','发货日期','快递编号','数量.1',\\\n",
    "        '单据类型','数量.5','日期.4','签收单位',\\\n",
    "        '日期.5','编号.1','数量.6','金额',\\\n",
    "        '凭证号','日期.6','金额.1','数量.7',\\\n",
    "        'Unnamed: 36','日期.7','金额.2','对方名称','日期.8','金额.3','对方名称.1',\\\n",
    "        'Unnamed: 44']]"
   ]
  },
  {
   "cell_type": "code",
   "execution_count": 5,
   "metadata": {},
   "outputs": [],
   "source": [
    "df.columns = ['合并口径','客户工商名称','合同号','产品代码','合同数量','销售单价','合同金额',\\\n",
    "    '出库日期','出库编号','出库数量','发货日期','快递单号','快递数量',\\\n",
    "    '签收单据','签收数量','签收日期','签收单位',\\\n",
    "    '开票日期','发票编号','开票数量','开票金额（不含税）',\\\n",
    "    '记账凭证号','记账日期','记账金额','记账数量',\\\n",
    "    '货款结算方式','回款日期','回款金额','对方名称','回款记账日期','回款记账金额','对方名称.1','底稿编号']"
   ]
  },
  {
   "cell_type": "code",
   "execution_count": 6,
   "metadata": {},
   "outputs": [
    {
     "name": "stdout",
     "output_type": "stream",
     "text": [
      "出库日期 转换完成！\n"
     ]
    },
    {
     "ename": "AttributeError",
     "evalue": "Can only use .dt accessor with datetimelike values",
     "output_type": "error",
     "traceback": [
      "\u001b[1;31m---------------------------------------------------------------------------\u001b[0m",
      "\u001b[1;31mAttributeError\u001b[0m                            Traceback (most recent call last)",
      "Cell \u001b[1;32mIn[6], line 2\u001b[0m\n\u001b[0;32m      1\u001b[0m date_list \u001b[39m=\u001b[39m [\u001b[39m'\u001b[39m\u001b[39m出库日期\u001b[39m\u001b[39m'\u001b[39m,\u001b[39m'\u001b[39m\u001b[39m发货日期\u001b[39m\u001b[39m'\u001b[39m,\u001b[39m'\u001b[39m\u001b[39m签收日期\u001b[39m\u001b[39m'\u001b[39m,\u001b[39m'\u001b[39m\u001b[39m开票日期\u001b[39m\u001b[39m'\u001b[39m,\u001b[39m'\u001b[39m\u001b[39m记账日期\u001b[39m\u001b[39m'\u001b[39m,\u001b[39m'\u001b[39m\u001b[39m回款日期\u001b[39m\u001b[39m'\u001b[39m,\u001b[39m'\u001b[39m\u001b[39m回款记账日期\u001b[39m\u001b[39m'\u001b[39m]\n\u001b[1;32m----> 2\u001b[0m date2str(df, date_list)\n",
      "File \u001b[1;32md:\\Soft\\envs\\data39\\lib\\myfunc.py:155\u001b[0m, in \u001b[0;36mdate2str\u001b[1;34m(df, date_list)\u001b[0m\n\u001b[0;32m    153\u001b[0m \u001b[39mfor\u001b[39;00m i \u001b[39min\u001b[39;00m date_list:\n\u001b[0;32m    154\u001b[0m     df[i] \u001b[39m=\u001b[39m pd\u001b[39m.\u001b[39mto_datetime(df[i])\n\u001b[1;32m--> 155\u001b[0m     df[i] \u001b[39m=\u001b[39m df[i]\u001b[39m.\u001b[39;49mdt\u001b[39m.\u001b[39mstrftime(\u001b[39m'\u001b[39m\u001b[39m%\u001b[39m\u001b[39mY-\u001b[39m\u001b[39m%\u001b[39m\u001b[39mm-\u001b[39m\u001b[39m%d\u001b[39;00m\u001b[39m'\u001b[39m)\u001b[39m.\u001b[39mfillna(\u001b[39m'\u001b[39m\u001b[39m'\u001b[39m)\n\u001b[0;32m    156\u001b[0m     \u001b[39mprint\u001b[39m(i, \u001b[39m'\u001b[39m\u001b[39m转换完成！\u001b[39m\u001b[39m'\u001b[39m)\n",
      "File \u001b[1;32md:\\Soft\\envs\\data39\\lib\\site-packages\\pandas\\core\\generic.py:5461\u001b[0m, in \u001b[0;36mNDFrame.__getattr__\u001b[1;34m(self, name)\u001b[0m\n\u001b[0;32m   5454\u001b[0m \u001b[39m# Note: obj.x will always call obj.__getattribute__('x') prior to\u001b[39;00m\n\u001b[0;32m   5455\u001b[0m \u001b[39m# calling obj.__getattr__('x').\u001b[39;00m\n\u001b[0;32m   5456\u001b[0m \u001b[39mif\u001b[39;00m (\n\u001b[0;32m   5457\u001b[0m     name \u001b[39min\u001b[39;00m \u001b[39mself\u001b[39m\u001b[39m.\u001b[39m_internal_names_set\n\u001b[0;32m   5458\u001b[0m     \u001b[39mor\u001b[39;00m name \u001b[39min\u001b[39;00m \u001b[39mself\u001b[39m\u001b[39m.\u001b[39m_metadata\n\u001b[0;32m   5459\u001b[0m     \u001b[39mor\u001b[39;00m name \u001b[39min\u001b[39;00m \u001b[39mself\u001b[39m\u001b[39m.\u001b[39m_accessors\n\u001b[0;32m   5460\u001b[0m ):\n\u001b[1;32m-> 5461\u001b[0m     \u001b[39mreturn\u001b[39;00m \u001b[39mobject\u001b[39;49m\u001b[39m.\u001b[39;49m\u001b[39m__getattribute__\u001b[39;49m(\u001b[39mself\u001b[39;49m, name)\n\u001b[0;32m   5462\u001b[0m \u001b[39melse\u001b[39;00m:\n\u001b[0;32m   5463\u001b[0m     \u001b[39mif\u001b[39;00m \u001b[39mself\u001b[39m\u001b[39m.\u001b[39m_info_axis\u001b[39m.\u001b[39m_can_hold_identifiers_and_holds_name(name):\n",
      "File \u001b[1;32md:\\Soft\\envs\\data39\\lib\\site-packages\\pandas\\core\\accessor.py:180\u001b[0m, in \u001b[0;36mCachedAccessor.__get__\u001b[1;34m(self, obj, cls)\u001b[0m\n\u001b[0;32m    177\u001b[0m \u001b[39mif\u001b[39;00m obj \u001b[39mis\u001b[39;00m \u001b[39mNone\u001b[39;00m:\n\u001b[0;32m    178\u001b[0m     \u001b[39m# we're accessing the attribute of the class, i.e., Dataset.geo\u001b[39;00m\n\u001b[0;32m    179\u001b[0m     \u001b[39mreturn\u001b[39;00m \u001b[39mself\u001b[39m\u001b[39m.\u001b[39m_accessor\n\u001b[1;32m--> 180\u001b[0m accessor_obj \u001b[39m=\u001b[39m \u001b[39mself\u001b[39;49m\u001b[39m.\u001b[39;49m_accessor(obj)\n\u001b[0;32m    181\u001b[0m \u001b[39m# Replace the property with the accessor object. Inspired by:\u001b[39;00m\n\u001b[0;32m    182\u001b[0m \u001b[39m# https://www.pydanny.com/cached-property.html\u001b[39;00m\n\u001b[0;32m    183\u001b[0m \u001b[39m# We need to use object.__setattr__ because we overwrite __setattr__ on\u001b[39;00m\n\u001b[0;32m    184\u001b[0m \u001b[39m# NDFrame\u001b[39;00m\n\u001b[0;32m    185\u001b[0m \u001b[39mobject\u001b[39m\u001b[39m.\u001b[39m\u001b[39m__setattr__\u001b[39m(obj, \u001b[39mself\u001b[39m\u001b[39m.\u001b[39m_name, accessor_obj)\n",
      "File \u001b[1;32md:\\Soft\\envs\\data39\\lib\\site-packages\\pandas\\core\\indexes\\accessors.py:494\u001b[0m, in \u001b[0;36mCombinedDatetimelikeProperties.__new__\u001b[1;34m(cls, data)\u001b[0m\n\u001b[0;32m    491\u001b[0m \u001b[39melif\u001b[39;00m is_period_dtype(data\u001b[39m.\u001b[39mdtype):\n\u001b[0;32m    492\u001b[0m     \u001b[39mreturn\u001b[39;00m PeriodProperties(data, orig)\n\u001b[1;32m--> 494\u001b[0m \u001b[39mraise\u001b[39;00m \u001b[39mAttributeError\u001b[39;00m(\u001b[39m\"\u001b[39m\u001b[39mCan only use .dt accessor with datetimelike values\u001b[39m\u001b[39m\"\u001b[39m)\n",
      "\u001b[1;31mAttributeError\u001b[0m: Can only use .dt accessor with datetimelike values"
     ]
    }
   ],
   "source": [
    "date_list = ['出库日期','发货日期','签收日期','开票日期','记账日期','回款日期','回款记账日期']\n",
    "date2str(df, date_list)"
   ]
  },
  {
   "cell_type": "code",
   "execution_count": null,
   "metadata": {},
   "outputs": [
    {
     "data": {
      "text/plain": [
       "Index(['收入年度', '月份', '凭证号', '客户名称', '收入金额（本位币）', '合同号', '合同签订时间', '标的物',\n",
       "       '标的物型号', '合同数量', '合同金额', '销售订单号', '销售订单时间', '物料代码', '数量', '销售出库时间',\n",
       "       '手签出库时间', '销售出库单号', '物料规格', '合同号.1', '数量.1', '快递公司', '快递单号', '签收时间',\n",
       "       '签收人员', '客户签收确认时间', '客户签收人员', '盖章单位', '盖章类型', '发货日期', '订单号', '产品型号',\n",
       "       '数量.2', '出库单号', '是否确认', '发票号', '开票时间', '购货单位', '规格型号', '数量.3', '含税金额',\n",
       "       '合同号.2', '发票客户核对', 'Unnamed: 43', '补充网址', 'Unnamed: 45', 'Unnamed: 46',\n",
       "       'Unnamed: 47', 'Unnamed: 48', '合同签收单物流单网址', 'Unnamed: 50', '发票PDF文档名称',\n",
       "       '发票出库单网址', 'Unnamed: 53', '备注', 'Unnamed: 55', 'Unnamed: 56',\n",
       "       'Unnamed: 57', 'Unnamed: 58'],\n",
       "      dtype='object')"
      ]
     },
     "execution_count": 164,
     "metadata": {},
     "output_type": "execute_result"
    }
   ],
   "source": [
    "kj = pd.read_excel('../原始底稿/收入核查底稿-2021年.xlsm', sheet_name='2021年', skiprows=1)\n",
    "kj.columns"
   ]
  },
  {
   "cell_type": "code",
   "execution_count": null,
   "metadata": {},
   "outputs": [],
   "source": [
    "kj['收入年月'] = kj['收入年度'].map(str)+'-'+kj['月份'].map(str)\n",
    "kj['记账日期'] = pd.to_datetime(kj['收入年月'])+MonthEnd()"
   ]
  },
  {
   "cell_type": "code",
   "execution_count": null,
   "metadata": {},
   "outputs": [],
   "source": [
    "kj['签收单据'] = '交付确认单'\n",
    "kj['收入金额'] = kj['收入金额（本位币）']\n",
    "kj['数量.4'] = kj['数量']\n",
    "kj['销售单价'] = kj['合同金额']/kj['合同数量']\n",
    "kj['底稿信息'] = kj['合同签收单物流单网址'].fillna('') + '+' + kj['发票出库单网址'].fillna('')+ '+' +kj['补充网址'].fillna('')"
   ]
  },
  {
   "cell_type": "code",
   "execution_count": null,
   "metadata": {},
   "outputs": [],
   "source": [
    "kj = kj[['客户名称', '合同号','标的物型号', '合同数量','销售单价','合同金额',\\\n",
    "        '销售出库时间','销售出库单号','数量.1','发货日期','快递单号','数量.2',\\\n",
    "        '签收单据','数量','客户签收确认时间','盖章单位',\\\n",
    "        '开票时间','发票号','数量.3','收入金额',\\\n",
    "        '凭证号','记账日期','收入金额（本位币）','数量.4', '底稿信息']]"
   ]
  },
  {
   "cell_type": "code",
   "execution_count": null,
   "metadata": {},
   "outputs": [
    {
     "data": {
      "text/plain": [
       "Index(['合并口径', '客户工商名称', '合同号', '产品代码', '合同数量', '销售单价', '合同金额', '出库日期', '出库编号',\n",
       "       '出库数量', '发货日期', '快递单号', '快递数量', '签收单据', '签收数量', '签收日期', '签收单位', '开票日期',\n",
       "       '发票编号', '开票数量', '开票金额（不含税）', '记账凭证号', '记账日期', '记账金额', '记账数量', '货款结算方式',\n",
       "       '回款日期', '回款金额', '对方名称', '回款记账日期', '回款记账金额', '对方名称.1', '底稿编号'],\n",
       "      dtype='object')"
      ]
     },
     "execution_count": 168,
     "metadata": {},
     "output_type": "execute_result"
    }
   ],
   "source": [
    "df.columns"
   ]
  },
  {
   "cell_type": "code",
   "execution_count": null,
   "metadata": {},
   "outputs": [],
   "source": [
    "kj.rename(columns={'客户名称':'客户工商名称', '标的物型号':'产品代码','销售出库时间':'出库日期',\\\n",
    "    '销售出库单号':'出库编号','数量.1':'出库数量','数量.2':'快递数量','数量':'签收数量','客户签收确认时间':'签收日期','盖章单位':'签收单位',\\\n",
    "    '开票时间':'开票日期','发票号':'发票编号','数量.3':'开票数量','收入金额':'开票金额（不含税）',\\\n",
    "    '凭证号':'记账凭证号','收入金额（本位币）':'记账金额','数量.4':'记账数量'}, inplace=True)"
   ]
  },
  {
   "cell_type": "code",
   "execution_count": null,
   "metadata": {},
   "outputs": [
    {
     "data": {
      "text/plain": [
       "Index(['客户工商名称', '合同号', '产品代码', '合同数量', '销售单价', '合同金额', '出库日期', '出库编号', '出库数量',\n",
       "       '发货日期', '快递单号', '快递数量', '签收单据', '签收数量', '签收日期', '签收单位', '开票日期', '发票编号',\n",
       "       '开票数量', '开票金额（不含税）', '记账凭证号', '记账日期', '记账金额', '记账数量', '底稿信息'],\n",
       "      dtype='object')"
      ]
     },
     "execution_count": 170,
     "metadata": {},
     "output_type": "execute_result"
    }
   ],
   "source": [
    "kj.columns"
   ]
  },
  {
   "cell_type": "code",
   "execution_count": null,
   "metadata": {},
   "outputs": [
    {
     "name": "stdout",
     "output_type": "stream",
     "text": [
      "出库日期 转换完成！\n",
      "发货日期 转换完成！\n",
      "签收日期 转换完成！\n",
      "开票日期 转换完成！\n",
      "记账日期 转换完成！\n"
     ]
    }
   ],
   "source": [
    "date_list = ['出库日期','发货日期','签收日期','开票日期','记账日期']\n",
    "date2str(kj, date_list)"
   ]
  },
  {
   "cell_type": "code",
   "execution_count": null,
   "metadata": {},
   "outputs": [
    {
     "data": {
      "text/plain": [
       "(883, 33)"
      ]
     },
     "execution_count": 172,
     "metadata": {},
     "output_type": "execute_result"
    }
   ],
   "source": [
    "df.shape"
   ]
  },
  {
   "cell_type": "code",
   "execution_count": null,
   "metadata": {},
   "outputs": [
    {
     "data": {
      "text/plain": [
       "(891, 49)"
      ]
     },
     "execution_count": 173,
     "metadata": {},
     "output_type": "execute_result"
    }
   ],
   "source": [
    "new = df.merge(kj, how='left', on=['客户工商名称', '合同号', '产品代码', '合同数量', '销售单价', '合同金额', '出库日期', '出库编号', '出库数量',])\n",
    "new.shape"
   ]
  },
  {
   "cell_type": "code",
   "execution_count": null,
   "metadata": {},
   "outputs": [
    {
     "data": {
      "text/plain": [
       "Index(['合并口径', '客户工商名称', '合同号', '产品代码', '合同数量', '销售单价', '合同金额', '出库日期', '出库编号',\n",
       "       '出库数量', '发货日期_x', '快递单号_x', '快递数量_x', '签收单据_x', '签收数量_x', '签收日期_x',\n",
       "       '签收单位_x', '开票日期_x', '发票编号_x', '开票数量_x', '开票金额（不含税）_x', '记账凭证号_x',\n",
       "       '记账日期_x', '记账金额_x', '记账数量_x', '货款结算方式', '回款日期', '回款金额', '对方名称',\n",
       "       '回款记账日期', '回款记账金额', '对方名称.1', '底稿编号', '发货日期_y', '快递单号_y', '快递数量_y',\n",
       "       '签收单据_y', '签收数量_y', '签收日期_y', '签收单位_y', '开票日期_y', '发票编号_y', '开票数量_y',\n",
       "       '开票金额（不含税）_y', '记账凭证号_y', '记账日期_y', '记账金额_y', '记账数量_y', '底稿信息'],\n",
       "      dtype='object')"
      ]
     },
     "execution_count": 175,
     "metadata": {},
     "output_type": "execute_result"
    }
   ],
   "source": [
    "new.columns"
   ]
  },
  {
   "cell_type": "code",
   "execution_count": null,
   "metadata": {},
   "outputs": [],
   "source": [
    "# 去除重复合并项\n",
    "new.drop([318,319,320,317,327,328,329,324], axis=0, inplace=True)\n",
    "new.reset_index(drop=True, inplace=True)"
   ]
  },
  {
   "cell_type": "code",
   "execution_count": null,
   "metadata": {},
   "outputs": [],
   "source": [
    "# new.to_excel('../new.xlsx', index=1, encoding='utf-8')"
   ]
  },
  {
   "cell_type": "code",
   "execution_count": null,
   "metadata": {},
   "outputs": [
    {
     "data": {
      "text/plain": [
       "True"
      ]
     },
     "execution_count": 182,
     "metadata": {},
     "output_type": "execute_result"
    }
   ],
   "source": [
    "new.shape[0]==df.shape[0]"
   ]
  },
  {
   "cell_type": "code",
   "execution_count": null,
   "metadata": {},
   "outputs": [
    {
     "name": "stdout",
     "output_type": "stream",
     "text": [
      "发货日期_x和发货日期_y有848处不相等！\n",
      "快递单号_x和快递单号_y有650处不相等！\n",
      "快递数量_x和快递数量_y有629处不相等！\n",
      "签收单据_x和签收单据_y有622处不相等！\n",
      "签收数量_x和签收数量_y有622处不相等！\n",
      "签收日期_x和签收日期_y有773处不相等！\n",
      "签收单位_x和签收单位_y有691处不相等！\n",
      "开票日期_x和开票日期_y有622处不相等！\n",
      "发票编号_x和发票编号_y有631处不相等！\n",
      "开票数量_x和开票数量_y有622处不相等！\n",
      "开票金额（不含税）_x和开票金额（不含税）_y有628处不相等！\n",
      "记账凭证号_x和记账凭证号_y有883处不相等！\n",
      "记账日期_x和记账日期_y有827处不相等！\n",
      "记账数量_x和记账数量_y有622处不相等！\n"
     ]
    },
    {
     "data": {
      "text/plain": [
       "{'发货日期': 848,\n",
       " '快递单号': 650,\n",
       " '快递数量': 629,\n",
       " '签收单据': 622,\n",
       " '签收数量': 622,\n",
       " '签收日期': 773,\n",
       " '签收单位': 691,\n",
       " '开票日期': 622,\n",
       " '发票编号': 631,\n",
       " '开票数量': 622,\n",
       " '开票金额（不含税）': 628,\n",
       " '记账凭证号': 883,\n",
       " '记账日期': 827,\n",
       " '记账数量': 622}"
      ]
     },
     "execution_count": 179,
     "metadata": {},
     "output_type": "execute_result"
    }
   ],
   "source": [
    "comp = [\n",
    "       '发货日期', '快递单号', '快递数量', '签收单据', '签收数量', '签收日期', '签收单位', '开票日期', '发票编号',\n",
    "       '开票数量', '开票金额（不含税）', '记账凭证号', '记账日期', '记账数量',]\n",
    "\n",
    "def compare(new:pd.DataFrame, comp:list) -> list:\n",
    "    namelist = {}\n",
    "    for i in comp:\n",
    "        a = i+'_x'\n",
    "        b = i+'_y'\n",
    "        c = 'diff'+i\n",
    "        new[c] = np.where(new[a]==new[b], 0, 1)\n",
    "        n = new[c].sum()\n",
    "        print(f\"{a}和{b}有{n}处不相等！\")\n",
    "        namelist[i] = n\n",
    "    return namelist\n",
    "\n",
    "compare(new, comp)"
   ]
  },
  {
   "cell_type": "code",
   "execution_count": null,
   "metadata": {},
   "outputs": [],
   "source": [
    "# 查找是否存在多余的条目\n",
    "a = df.groupby('客户工商名称')['发票编号'].count()\n",
    "b = new.groupby('客户工商名称')['发票编号_x'].count()\n",
    "for i in a.index.values:\n",
    "    if a[i] != b[i]:\n",
    "        print(i, a[i], b[i])"
   ]
  },
  {
   "cell_type": "code",
   "execution_count": null,
   "metadata": {},
   "outputs": [
    {
     "data": {
      "text/plain": [
       "Index(['合并口径', '客户工商名称', '合同号', '产品代码', '合同数量', '销售单价', '合同金额', '出库日期', '出库编号',\n",
       "       '出库数量', '发货日期_x', '快递单号_x', '快递数量_x', '签收单据_x', '签收数量_x', '签收日期_x',\n",
       "       '签收单位_x', '开票日期_x', '发票编号_x', '开票数量_x', '开票金额（不含税）_x', '记账凭证号_x',\n",
       "       '记账日期_x', '记账金额_x', '记账数量_x', '货款结算方式', '回款日期', '回款金额', '对方名称',\n",
       "       '回款记账日期', '回款记账金额', '对方名称.1', '底稿编号', '发货日期_y', '快递单号_y', '快递数量_y',\n",
       "       '签收单据_y', '签收数量_y', '签收日期_y', '签收单位_y', '开票日期_y', '发票编号_y', '开票数量_y',\n",
       "       '开票金额（不含税）_y', '记账凭证号_y', '记账日期_y', '记账金额_y', '记账数量_y', '底稿信息',\n",
       "       'diff发货日期', 'diff快递单号', 'diff快递数量', 'diff签收单据', 'diff签收数量', 'diff签收日期',\n",
       "       'diff签收单位', 'diff开票日期', 'diff发票编号', 'diff开票数量', 'diff开票金额（不含税）',\n",
       "       'diff记账凭证号', 'diff记账日期', 'diff记账数量'],\n",
       "      dtype='object')"
      ]
     },
     "execution_count": 186,
     "metadata": {},
     "output_type": "execute_result"
    }
   ],
   "source": [
    "new.columns"
   ]
  },
  {
   "cell_type": "code",
   "execution_count": null,
   "metadata": {},
   "outputs": [],
   "source": [
    "# new.to_excel('../new.xlsx', encoding='utf-8', index=0)\n",
    "new.fillna('', inplace=True)"
   ]
  },
  {
   "cell_type": "code",
   "execution_count": null,
   "metadata": {},
   "outputs": [],
   "source": [
    "new['快递单号_x'] = new['快递单号_x'].map(str)\n",
    "new['快递单号_y'] = new['快递单号_y'].map(str)"
   ]
  },
  {
   "cell_type": "code",
   "execution_count": null,
   "metadata": {},
   "outputs": [],
   "source": [
    "#这一部分是直接可以合并的信息, 如果x==y, 用x, 如果x不等于y，用x/y\n",
    "fill_list = ['发货日期', '快递单号','签收日期', '签收单位', '开票日期', '记账凭证号', '记账日期']\n",
    "def concat(new:pd.DataFrame, fill_list:list)->None:\n",
    "    for i in fill_list:\n",
    "        a = i+'_x'\n",
    "        b = i+'_y'\n",
    "        new[i] = new.apply(lambda row: row[a] if row[a] == row[b] else row[a]+'/'+row[b], axis=1)\n",
    "        \n",
    "concat(new, fill_list)"
   ]
  },
  {
   "cell_type": "code",
   "execution_count": null,
   "metadata": {},
   "outputs": [],
   "source": [
    "out = new[['合并口径', '客户工商名称', '合同号', '产品代码', '合同数量', '销售单价', '合同金额', '出库日期','出库编号', '出库数量',\\\n",
    "    '发货日期', '快递单号', '快递数量_x', '签收单据_x', '签收数量_x','签收日期', '签收单位',\\\n",
    "    '开票日期', '发票编号_x', '开票数量_x', '开票金额（不含税）_x',\\\n",
    "    '记账凭证号', '记账日期', '记账金额_x', '记账数量_x', '货款结算方式', '回款日期', '回款金额', '对方名称',\\\n",
    "    '回款记账日期', '回款记账金额', '对方名称.1', '底稿编号','底稿信息']]"
   ]
  },
  {
   "cell_type": "code",
   "execution_count": null,
   "metadata": {},
   "outputs": [],
   "source": [
    "# out.to_excel('../out.xlsx', index=0, encoding='utf-8')"
   ]
  },
  {
   "cell_type": "code",
   "execution_count": null,
   "metadata": {},
   "outputs": [],
   "source": [
    "# 此处开始操作excel\n",
    "# import xlwings as xw"
   ]
  },
  {
   "cell_type": "code",
   "execution_count": null,
   "metadata": {},
   "outputs": [],
   "source": [
    "# wb = xw.Book('2-2-7.xlsx')\n",
    "# sht1 = wb.sheets['2021']\n",
    "# sht1['L5'].options(transpose=True).value = out['发货日期'].values\n",
    "# sht1['M5'].options(transpose=True).value = out['快递单号'].values\n",
    "# sht1['Z5'].options(transpose=True).value = out['签收日期'].values\n",
    "# sht1['AA5'].options(transpose=True).value = out['签收单位'].values\n",
    "# sht1['AB5'].options(transpose=True).value = out['开票日期'].values\n",
    "# sht1['AF5'].options(transpose=True).value = out['记账凭证号'].values\n",
    "# sht1['AG5'].options(transpose=True).value = out['记账日期'].values\n",
    "# sht1['AS5'].options(transpose=True).value = out['底稿编号'].values\n",
    "# sht1['AT5'].options(transpose=True).value = out['底稿信息'].values"
   ]
  },
  {
   "cell_type": "code",
   "execution_count": 7,
   "metadata": {},
   "outputs": [],
   "source": [
    "# 此处开始提取超链接\n",
    "# hypelinks = out['底稿信息'].dropna().drop_duplicates().values[1:]\n",
    "# len(hypelinks)\n",
    "df = pd.read_excel('../2-2-7.xlsx', sheet_name='2021', skiprows=3)\n",
    "link_list = df['会计师底稿'].dropna().drop_duplicates().values[1:]\n",
    "hypes = []\n",
    "for link in link_list:\n",
    "    f, m, l = link.split('+')\n",
    "    for i in [f, m, l]:\n",
    "        if i=='' or i in hypes:\n",
    "            continue\n",
    "        else:\n",
    "            hypes.append(i)"
   ]
  },
  {
   "cell_type": "code",
   "execution_count": 9,
   "metadata": {},
   "outputs": [],
   "source": [
    "# 启动爬虫\n",
    "from selenium import webdriver\n",
    "from selenium.webdriver.common.by import By\n",
    "from selenium.webdriver.edge.service import Service\n",
    "import time\n",
    "import os"
   ]
  },
  {
   "cell_type": "code",
   "execution_count": 10,
   "metadata": {},
   "outputs": [],
   "source": [
    "# 配置文件部分\n",
    "# 浏览器位置\n",
    "broswer_path = 'msedgedriver.exe'\n",
    "username_path = '//*[@id=\"Username\"]'\n",
    "pwd_path = '//*[@id=\"Password\"]'\n",
    "login_path = '//*[@id=\"submitForm\"]/p[3]/input'\n",
    "download_path = '//*[@id=\"btlogin\"]'\n",
    "dir_path = 'D:\\\\Intership\\\\IPO\\\\2-2-7\\\\新凭证底稿\\\\2021\\\\会计师'\n",
    "\n",
    "# 创建EdgeOptions对象并配置自动下载\n",
    "options = webdriver.EdgeOptions() \n",
    "options.add_experimental_option(\"prefs\", {\n",
    "    \"download.default_directory\": dir_path,  # 指定下载文件保存的文件夹路径\n",
    "    \"download.prompt_for_download\": False,  # 禁止弹窗询问下载\n",
    "    \"plugins.always_open_pdf_externally\": True  # 总是在浏览器外部打开PDF文件\n",
    "})"
   ]
  },
  {
   "cell_type": "code",
   "execution_count": 11,
   "metadata": {},
   "outputs": [],
   "source": [
    "# 定义浏览器\n",
    "def set_broswer(driver_type = 'edge', path = broswer_path, options=options):\n",
    "    if driver_type == 'edge':\n",
    "        driver = webdriver.Edge(service=Service(path), options=options)\n",
    "    elif driver_type == 'chrome':\n",
    "        driver = webdriver.Chrome(path, options=options)\n",
    "    else:\n",
    "        raise ValueError (\" use edge or chrome!\")\n",
    "    return driver"
   ]
  },
  {
   "cell_type": "code",
   "execution_count": 14,
   "metadata": {},
   "outputs": [
    {
     "name": "stdout",
     "output_type": "stream",
     "text": [
      "1 finished!\n",
      "2 finished!\n",
      "3 finished!\n",
      "4 finished!\n",
      "5 finished!\n",
      "6 finished!\n",
      "7 finished!\n",
      "8 finished!\n",
      "9 finished!\n",
      "10 finished!\n",
      "11 finished!\n",
      "12 finished!\n",
      "13 finished!\n",
      "14 finished!\n",
      "15 finished!\n",
      "16 finished!\n",
      "17 finished!\n",
      "18 finished!\n",
      "19 finished!\n",
      "20 finished!\n",
      "21 finished!\n",
      "22 finished!\n",
      "23 finished!\n",
      "24 finished!\n",
      "25 finished!\n",
      "26 finished!\n",
      "27 finished!\n",
      "28 finished!\n",
      "29 finished!\n",
      "30 finished!\n",
      "31 finished!\n",
      "32 finished!\n",
      "33 finished!\n",
      "34 finished!\n",
      "35 finished!\n",
      "36 finished!\n",
      "37 finished!\n",
      "38 finished!\n",
      "39 finished!\n",
      "40 finished!\n",
      "41 finished!\n",
      "42 finished!\n",
      "43 finished!\n",
      "44 finished!\n",
      "45 finished!\n",
      "46 finished!\n",
      "47 finished!\n",
      "48 finished!\n",
      "49 finished!\n",
      "50 finished!\n",
      "51 finished!\n",
      "52 finished!\n",
      "53 finished!\n",
      "54 finished!\n",
      "55 finished!\n",
      "56 finished!\n",
      "57 finished!\n",
      "58 finished!\n",
      "59 finished!\n",
      "60 finished!\n",
      "61 finished!\n",
      "62 finished!\n",
      "63 finished!\n",
      "64 finished!\n",
      "65 finished!\n",
      "66 finished!\n",
      "67 finished!\n",
      "68 finished!\n",
      "69 finished!\n",
      "70 finished!\n",
      "71 finished!\n",
      "72 finished!\n",
      "73 finished!\n",
      "74 finished!\n",
      "75 finished!\n",
      "76 finished!\n",
      "77 finished!\n",
      "78 finished!\n",
      "79 finished!\n",
      "80 finished!\n",
      "81 finished!\n",
      "82 finished!\n",
      "83 finished!\n",
      "84 finished!\n",
      "85 finished!\n",
      "86 finished!\n",
      "87 finished!\n",
      "88 finished!\n",
      "89 finished!\n",
      "90 finished!\n",
      "91 finished!\n",
      "92 finished!\n",
      "93 finished!\n",
      "94 finished!\n",
      "95 finished!\n",
      "96 finished!\n",
      "98 finished!\n",
      "100 finished!\n",
      "101 finished!\n",
      "102 finished!\n",
      "103 finished!\n",
      "104 finished!\n",
      "105 finished!\n",
      "106 finished!\n",
      "107 finished!\n",
      "108 finished!\n",
      "109 finished!\n",
      "110 finished!\n",
      "111 finished!\n",
      "112 finished!\n",
      "113 finished!\n",
      "114 finished!\n",
      "115 finished!\n",
      "116 finished!\n",
      "117 finished!\n",
      "118 finished!\n",
      "119 finished!\n",
      "120 finished!\n",
      "121 finished!\n",
      "122 finished!\n",
      "123 finished!\n",
      "124 finished!\n",
      "125 finished!\n",
      "126 finished!\n",
      "127 finished!\n",
      "128 finished!\n",
      "129 finished!\n",
      "130 finished!\n",
      "131 finished!\n",
      "132 finished!\n",
      "133 finished!\n",
      "134 finished!\n",
      "135 finished!\n",
      "136 finished!\n",
      "137 finished!\n",
      "138 finished!\n",
      "139 finished!\n",
      "140 finished!\n",
      "141 finished!\n",
      "142 finished!\n",
      "143 finished!\n",
      "144 finished!\n",
      "145 finished!\n",
      "146 finished!\n",
      "147 finished!\n",
      "148 finished!\n",
      "149 finished!\n",
      "150 finished!\n",
      "152 finished!\n",
      "154 finished!\n",
      "156 finished!\n",
      "158 finished!\n",
      "160 finished!\n",
      "162 finished!\n",
      "164 finished!\n",
      "165 finished!\n",
      "166 finished!\n",
      "167 finished!\n",
      "168 finished!\n",
      "169 finished!\n",
      "170 finished!\n",
      "171 finished!\n",
      "172 finished!\n",
      "173 finished!\n",
      "174 finished!\n",
      "175 finished!\n",
      "176 finished!\n",
      "177 finished!\n",
      "178 finished!\n",
      "179 finished!\n",
      "180 finished!\n",
      "181 finished!\n",
      "182 finished!\n",
      "183 finished!\n",
      "184 finished!\n",
      "185 finished!\n",
      "186 finished!\n",
      "187 finished!\n",
      "188 finished!\n",
      "189 finished!\n",
      "190 finished!\n",
      "191 finished!\n",
      "192 finished!\n",
      "193 finished!\n",
      "194 finished!\n",
      "195 finished!\n",
      "196 finished!\n",
      "197 finished!\n",
      "198 finished!\n",
      "199 finished!\n",
      "200 finished!\n",
      "201 finished!\n",
      "202 finished!\n",
      "203 finished!\n",
      "204 finished!\n",
      "205 finished!\n",
      "206 finished!\n",
      "208 finished!\n",
      "209 finished!\n",
      "210 finished!\n",
      "211 finished!\n",
      "212 finished!\n",
      "213 finished!\n",
      "214 finished!\n",
      "215 finished!\n",
      "216 finished!\n",
      "217 finished!\n",
      "218 finished!\n",
      "219 finished!\n",
      "220 finished!\n",
      "222 finished!\n",
      "223 finished!\n",
      "224 finished!\n",
      "225 finished!\n",
      "226 finished!\n",
      "227 finished!\n",
      "228 finished!\n",
      "229 finished!\n",
      "230 finished!\n",
      "231 finished!\n",
      "232 finished!\n",
      "233 finished!\n",
      "234 finished!\n",
      "235 finished!\n",
      "236 finished!\n",
      "237 finished!\n",
      "238 finished!\n",
      "239 finished!\n",
      "240 finished!\n",
      "241 finished!\n",
      "242 finished!\n",
      "243 finished!\n",
      "244 finished!\n",
      "245 finished!\n",
      "246 finished!\n",
      "247 finished!\n",
      "248 finished!\n",
      "249 finished!\n",
      "250 finished!\n",
      "251 finished!\n",
      "252 finished!\n",
      "253 finished!\n",
      "254 finished!\n",
      "255 finished!\n",
      "256 finished!\n",
      "257 finished!\n",
      "258 finished!\n",
      "259 finished!\n",
      "260 finished!\n",
      "261 finished!\n",
      "262 finished!\n",
      "263 finished!\n",
      "265 finished!\n",
      "266 finished!\n",
      "267 finished!\n",
      "268 finished!\n",
      "269 finished!\n",
      "270 finished!\n",
      "271 finished!\n",
      "272 finished!\n",
      "273 finished!\n",
      "274 finished!\n",
      "275 finished!\n",
      "276 finished!\n",
      "277 finished!\n",
      "278 finished!\n",
      "279 finished!\n",
      "280 finished!\n",
      "281 finished!\n",
      "282 finished!\n",
      "283 finished!\n",
      "284 finished!\n",
      "285 finished!\n",
      "286 finished!\n",
      "287 finished!\n",
      "288 finished!\n",
      "289 finished!\n",
      "290 finished!\n",
      "291 finished!\n",
      "292 finished!\n",
      "293 finished!\n",
      "294 finished!\n",
      "295 finished!\n",
      "296 finished!\n",
      "297 finished!\n",
      "298 finished!\n",
      "299 finished!\n",
      "300 finished!\n",
      "301 finished!\n",
      "302 finished!\n",
      "303 finished!\n",
      "304 finished!\n",
      "305 finished!\n",
      "306 finished!\n",
      "307 finished!\n",
      "308 finished!\n",
      "309 finished!\n",
      "310 finished!\n",
      "311 finished!\n",
      "312 finished!\n",
      "313 finished!\n",
      "314 finished!\n",
      "315 finished!\n",
      "316 finished!\n",
      "317 finished!\n",
      "318 finished!\n",
      "319 finished!\n",
      "320 finished!\n",
      "321 finished!\n",
      "322 finished!\n",
      "323 finished!\n",
      "324 finished!\n",
      "325 finished!\n",
      "326 finished!\n",
      "327 finished!\n",
      "328 finished!\n",
      "329 finished!\n",
      "330 finished!\n",
      "331 finished!\n",
      "332 finished!\n",
      "333 finished!\n",
      "334 finished!\n",
      "335 finished!\n",
      "336 finished!\n",
      "337 finished!\n",
      "338 finished!\n",
      "339 finished!\n",
      "340 finished!\n",
      "341 finished!\n",
      "342 finished!\n",
      "343 finished!\n",
      "344 finished!\n",
      "345 finished!\n",
      "346 finished!\n",
      "347 finished!\n",
      "348 finished!\n",
      "349 finished!\n",
      "350 finished!\n",
      "351 finished!\n",
      "352 finished!\n",
      "353 finished!\n",
      "354 finished!\n",
      "355 finished!\n",
      "356 finished!\n",
      "357 finished!\n",
      "358 finished!\n",
      "359 finished!\n",
      "360 finished!\n",
      "361 finished!\n",
      "362 finished!\n",
      "363 finished!\n",
      "364 finished!\n",
      "365 finished!\n",
      "366 finished!\n",
      "367 finished!\n",
      "368 finished!\n",
      "369 finished!\n",
      "370 finished!\n",
      "371 finished!\n",
      "372 finished!\n",
      "373 finished!\n",
      "374 finished!\n",
      "375 finished!\n",
      "376 finished!\n",
      "377 finished!\n",
      "378 finished!\n",
      "379 finished!\n",
      "380 finished!\n",
      "381 finished!\n",
      "382 finished!\n",
      "383 finished!\n",
      "384 finished!\n",
      "385 finished!\n",
      "386 finished!\n",
      "387 finished!\n",
      "388 finished!\n",
      "389 finished!\n",
      "390 finished!\n",
      "391 finished!\n",
      "392 finished!\n",
      "393 finished!\n",
      "394 finished!\n",
      "395 finished!\n",
      "396 finished!\n",
      "397 finished!\n",
      "398 finished!\n",
      "399 finished!\n",
      "400 finished!\n",
      "401 finished!\n",
      "402 finished!\n",
      "403 finished!\n",
      "404 finished!\n",
      "405 finished!\n",
      "406 finished!\n",
      "407 finished!\n",
      "408 finished!\n",
      "409 finished!\n",
      "410 finished!\n",
      "411 finished!\n",
      "412 finished!\n",
      "413 finished!\n",
      "414 finished!\n",
      "415 finished!\n",
      "416 finished!\n",
      "417 finished!\n",
      "418 finished!\n",
      "419 finished!\n",
      "420 finished!\n",
      "421 finished!\n",
      "422 finished!\n",
      "423 finished!\n",
      "424 finished!\n",
      "425 finished!\n"
     ]
    }
   ],
   "source": [
    "# 爬虫主程序\n",
    "driver = set_broswer()\n",
    "n = 1\n",
    "for url in hypes:\n",
    "    try:\n",
    "        driver.get(url)\n",
    "        time.sleep(1)\n",
    "        if n==1: # 首次登陆需要输入密码\n",
    "            driver.find_element(By.XPATH, username_path).send_keys('sh_sunrong')\n",
    "            driver.find_element(By.XPATH, pwd_path).send_keys('RSM7890sun')\n",
    "            driver.find_element(By.XPATH, login_path).click()\n",
    "            driver.implicitly_wait(20)\n",
    "        driver.find_element(By.CSS_SELECTOR, '#btlogin').click()\n",
    "        time.sleep(3)\n",
    "        \n",
    "    except :\n",
    "        driver.get_screenshot_as_file(filename=f\"{n}-{url.split('/')[-1]}.png\")\n",
    "        n+=1\n",
    "    else:\n",
    "        print(f'{n} finished!')  \n",
    "        n+=1\n"
   ]
  },
  {
   "cell_type": "code",
   "execution_count": null,
   "metadata": {},
   "outputs": [],
   "source": []
  }
 ],
 "metadata": {
  "kernelspec": {
   "display_name": "data39",
   "language": "python",
   "name": "python3"
  },
  "language_info": {
   "codemirror_mode": {
    "name": "ipython",
    "version": 3
   },
   "file_extension": ".py",
   "mimetype": "text/x-python",
   "name": "python",
   "nbconvert_exporter": "python",
   "pygments_lexer": "ipython3",
   "version": "3.9.16"
  },
  "orig_nbformat": 4
 },
 "nbformat": 4,
 "nbformat_minor": 2
}
