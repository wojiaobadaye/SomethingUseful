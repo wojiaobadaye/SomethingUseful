{
 "cells": [
  {
   "cell_type": "code",
   "execution_count": 1,
   "metadata": {},
   "outputs": [],
   "source": [
    "import numpy as np\n",
    "import pandas as pd\n",
    "from docx import Document\n",
    "from docx.shared import Pt\n",
    "from docx.oxml.ns import qn\n",
    "from docx.enum.text import WD_PARAGRAPH_ALIGNMENT\n",
    "from docx.enum.table import WD_ALIGN_VERTICAL"
   ]
  },
  {
   "cell_type": "code",
   "execution_count": 2,
   "metadata": {},
   "outputs": [],
   "source": [
    "# 替换单位名称\n",
    "def docx_find_replace_text(doc, search_text, replace_text):\n",
    "    for paragraph in doc.paragraphs:\n",
    "        if search_text in paragraph.text:\n",
    "            for run in paragraph.runs:\n",
    "                if search_text in run.text:\n",
    "                    run.text = run.text.replace(search_text, replace_text)\n",
    "\n",
    "# docx_find_replace_text(doc, '«name»', name)\n",
    "def set_cell_text_style(cell, pos): #确定样式\n",
    "    cell.vertical_alignment = WD_ALIGN_VERTICAL.CENTER # 垂直居中\n",
    "    for para in cell.paragraphs:\n",
    "        if pos.lower() == \"left\":\n",
    "            para.alignment = WD_PARAGRAPH_ALIGNMENT.LEFT\n",
    "        elif pos.lower() == \"mid\":\n",
    "            para.alignment = WD_PARAGRAPH_ALIGNMENT.CENTER\n",
    "        elif pos.lower() == \"right\":\n",
    "            para.alignment = WD_PARAGRAPH_ALIGNMENT.RIGHT\n",
    "        else:\n",
    "            raise ValueError(\"Invalid position value. Please use 'left', 'mid' or 'right'.\")\n",
    "        for run in para.runs:\n",
    "            run.font.size = Pt(10.5) # 五号字体\n",
    "            run.font.name = u\"宋体\"\n",
    "            run._element.rPr.rFonts.set(qn('w:eastAsia'), u'宋体')\n",
    "    return cell"
   ]
  },
  {
   "cell_type": "code",
   "execution_count": null,
   "metadata": {},
   "outputs": [],
   "source": [
    "# 1 应收预付-函证-汇总表，sheet_name=\"上海军陶境外应收函证\", skiprows=12, usecols=[i for i in range(23)]\n",
    "\n",
    "# doc = Document('')\n",
    "# table[0].rows[0] -> reshape(4,4)\n",
    "# table[1] -> reshape(4,2)\n"
   ]
  },
  {
   "cell_type": "code",
   "execution_count": 3,
   "metadata": {},
   "outputs": [
    {
     "data": {
      "text/plain": [
       "'$0.00'"
      ]
     },
     "execution_count": 3,
     "metadata": {},
     "output_type": "execute_result"
    }
   ],
   "source": [
    "'$'+'{:,.2f}'.format(0)"
   ]
  },
  {
   "cell_type": "code",
   "execution_count": 6,
   "metadata": {},
   "outputs": [],
   "source": [
    "doc = Document('./example_应收预付_境外.docx')\n",
    "doc.tables[0].rows[1].cells[1].text = '$'+'{:,.2f}'.format(0)\n",
    "doc.tables[0].rows[1].cells[2].text = '￥'+'{:,.2f}'.format(0)\n",
    "doc.save('ttttt.docx')"
   ]
  },
  {
   "cell_type": "code",
   "execution_count": 4,
   "metadata": {},
   "outputs": [
    {
     "data": {
      "text/plain": [
       "'￥0.00'"
      ]
     },
     "execution_count": 4,
     "metadata": {},
     "output_type": "execute_result"
    }
   ],
   "source": [
    "'￥'+'{:,.2f}'.format(0)"
   ]
  },
  {
   "cell_type": "code",
   "execution_count": null,
   "metadata": {},
   "outputs": [],
   "source": [
    "def beizhu():\n",
    "    "
   ]
  }
 ],
 "metadata": {
  "kernelspec": {
   "display_name": "data39",
   "language": "python",
   "name": "python3"
  },
  "language_info": {
   "codemirror_mode": {
    "name": "ipython",
    "version": 3
   },
   "file_extension": ".py",
   "mimetype": "text/x-python",
   "name": "python",
   "nbconvert_exporter": "python",
   "pygments_lexer": "ipython3",
   "version": "3.9.16"
  },
  "orig_nbformat": 4
 },
 "nbformat": 4,
 "nbformat_minor": 2
}
