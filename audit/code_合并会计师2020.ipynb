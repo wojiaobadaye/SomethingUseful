{
 "cells": [
  {
   "cell_type": "code",
   "execution_count": 1,
   "metadata": {},
   "outputs": [],
   "source": [
    "import numpy as np\n",
    "import pandas as pd"
   ]
  },
  {
   "cell_type": "code",
   "execution_count": 2,
   "metadata": {},
   "outputs": [],
   "source": [
    "def date2str(df:pd.DataFrame, date_list:list)->None:\n",
    "    for i in date_list:\n",
    "        df[i] = pd.to_datetime(df[i])\n",
    "        df[i] = df[i].dt.strftime('%Y-%m-%d').fillna('')\n",
    "        print(i, '转换完成！')"
   ]
  },
  {
   "cell_type": "code",
   "execution_count": 3,
   "metadata": {},
   "outputs": [],
   "source": [
    "# 2020年"
   ]
  },
  {
   "cell_type": "code",
   "execution_count": 4,
   "metadata": {},
   "outputs": [
    {
     "data": {
      "text/plain": [
       "Unnamed: 0             object\n",
       "合并口径                   object\n",
       "客户工商名称                 object\n",
       "合同号                    object\n",
       "产品代码                   object\n",
       "合同数量                    int64\n",
       "销售单价                  float64\n",
       "合同金额                  float64\n",
       "日期             datetime64[ns]\n",
       "编号                     object\n",
       "数量                      int64\n",
       "发货日期                   object\n",
       "快递编号                   object\n",
       "数量.1                    int64\n",
       "是否适用                  float64\n",
       "数量.2                  float64\n",
       "日期.1                  float64\n",
       "是否适用.1                float64\n",
       "数量.3                  float64\n",
       "日期.2                  float64\n",
       "是否适用.2                float64\n",
       "数量.4                  float64\n",
       "日期.3                  float64\n",
       "单据类型                   object\n",
       "数量.5                    int64\n",
       "日期.4                   object\n",
       "签收单位                   object\n",
       "日期.5                   object\n",
       "编号.1                   object\n",
       "数量.6                    int64\n",
       "金额                     object\n",
       "凭证号                    object\n",
       "日期.6                   object\n",
       "金额.1                  float64\n",
       "数量.7                  float64\n",
       "摘要                    float64\n",
       "Unnamed: 36            object\n",
       "日期.7           datetime64[ns]\n",
       "金额.2                  float64\n",
       "对方名称                   object\n",
       "日期.8           datetime64[ns]\n",
       "金额.3                  float64\n",
       "对方名称.1                 object\n",
       "Unnamed: 43           float64\n",
       "Unnamed: 44            object\n",
       "Unnamed: 45            object\n",
       "dtype: object"
      ]
     },
     "execution_count": 4,
     "metadata": {},
     "output_type": "execute_result"
    }
   ],
   "source": [
    "df = pd.read_excel('../2-2-7.xlsx', skiprows=3, sheet_name='2020')\n",
    "df.dtypes"
   ]
  },
  {
   "cell_type": "code",
   "execution_count": 5,
   "metadata": {},
   "outputs": [],
   "source": [
    "df = df[['合并口径','客户工商名称','合同号','产品代码','合同数量','销售单价','合同金额',\\\n",
    "    '日期','编号','数量','发货日期','快递编号','数量.1',\\\n",
    "        '单据类型','数量.5','日期.4','签收单位',\\\n",
    "        '日期.5','编号.1','数量.6','金额',\\\n",
    "        '凭证号','日期.6','金额.1','数量.7',\\\n",
    "        'Unnamed: 36','日期.7','金额.2','对方名称','日期.8','金额.3','对方名称.1',\\\n",
    "        'Unnamed: 44']]"
   ]
  },
  {
   "cell_type": "code",
   "execution_count": 6,
   "metadata": {},
   "outputs": [],
   "source": [
    "df.columns = ['合并口径','客户工商名称','合同号','产品代码','合同数量','销售单价','合同金额',\\\n",
    "    '出库日期','出库编号','出库数量','发货日期','快递单号','快递数量',\\\n",
    "    '签收单据','签收数量','签收日期','签收单位',\\\n",
    "    '开票日期','发票编号','开票数量','开票金额（不含税）',\\\n",
    "    '记账凭证号','记账日期','记账金额','记账数量',\\\n",
    "    '货款结算方式','回款日期','回款金额','对方名称','回款记账日期','回款记账金额','对方名称.1','底稿编号']"
   ]
  },
  {
   "cell_type": "code",
   "execution_count": 7,
   "metadata": {},
   "outputs": [
    {
     "name": "stdout",
     "output_type": "stream",
     "text": [
      "合并口径 object\n",
      "客户工商名称 object\n",
      "合同号 object\n",
      "产品代码 object\n",
      "合同数量 int64\n",
      "销售单价 float64\n",
      "合同金额 float64\n",
      "出库日期 datetime64[ns]\n",
      "出库编号 object\n",
      "出库数量 int64\n",
      "发货日期 object\n",
      "快递单号 object\n",
      "快递数量 int64\n",
      "签收单据 object\n",
      "签收数量 int64\n",
      "签收日期 object\n",
      "签收单位 object\n",
      "开票日期 object\n",
      "发票编号 object\n",
      "开票数量 int64\n",
      "开票金额（不含税） object\n",
      "记账凭证号 object\n",
      "记账日期 object\n",
      "记账金额 float64\n",
      "记账数量 float64\n",
      "货款结算方式 object\n",
      "回款日期 datetime64[ns]\n",
      "回款金额 float64\n",
      "对方名称 object\n",
      "回款记账日期 datetime64[ns]\n",
      "回款记账金额 float64\n",
      "对方名称.1 object\n",
      "底稿编号 object\n"
     ]
    }
   ],
   "source": [
    "for i in df.columns.values:\n",
    "    print(i, df[i].dtypes)"
   ]
  },
  {
   "cell_type": "code",
   "execution_count": 8,
   "metadata": {},
   "outputs": [
    {
     "name": "stdout",
     "output_type": "stream",
     "text": [
      "出库日期 转换完成！\n"
     ]
    },
    {
     "ename": "AttributeError",
     "evalue": "Can only use .dt accessor with datetimelike values",
     "output_type": "error",
     "traceback": [
      "\u001b[1;31m---------------------------------------------------------------------------\u001b[0m",
      "\u001b[1;31mAttributeError\u001b[0m                            Traceback (most recent call last)",
      "Cell \u001b[1;32mIn[8], line 2\u001b[0m\n\u001b[0;32m      1\u001b[0m date_list \u001b[39m=\u001b[39m [\u001b[39m'\u001b[39m\u001b[39m出库日期\u001b[39m\u001b[39m'\u001b[39m,\u001b[39m'\u001b[39m\u001b[39m发货日期\u001b[39m\u001b[39m'\u001b[39m,\u001b[39m'\u001b[39m\u001b[39m签收日期\u001b[39m\u001b[39m'\u001b[39m,\u001b[39m'\u001b[39m\u001b[39m开票日期\u001b[39m\u001b[39m'\u001b[39m,\u001b[39m'\u001b[39m\u001b[39m记账日期\u001b[39m\u001b[39m'\u001b[39m,\u001b[39m'\u001b[39m\u001b[39m回款日期\u001b[39m\u001b[39m'\u001b[39m,\u001b[39m'\u001b[39m\u001b[39m回款记账日期\u001b[39m\u001b[39m'\u001b[39m]\n\u001b[1;32m----> 2\u001b[0m date2str(df, date_list)\n",
      "Cell \u001b[1;32mIn[2], line 4\u001b[0m, in \u001b[0;36mdate2str\u001b[1;34m(df, date_list)\u001b[0m\n\u001b[0;32m      2\u001b[0m \u001b[39mfor\u001b[39;00m i \u001b[39min\u001b[39;00m date_list:\n\u001b[0;32m      3\u001b[0m     df[i] \u001b[39m=\u001b[39m pd\u001b[39m.\u001b[39mto_datetime(df[i])\n\u001b[1;32m----> 4\u001b[0m     df[i] \u001b[39m=\u001b[39m df[i]\u001b[39m.\u001b[39;49mdt\u001b[39m.\u001b[39mstrftime(\u001b[39m'\u001b[39m\u001b[39m%\u001b[39m\u001b[39mY-\u001b[39m\u001b[39m%\u001b[39m\u001b[39mm-\u001b[39m\u001b[39m%d\u001b[39;00m\u001b[39m'\u001b[39m)\u001b[39m.\u001b[39mfillna(\u001b[39m'\u001b[39m\u001b[39m'\u001b[39m)\n\u001b[0;32m      5\u001b[0m     \u001b[39mprint\u001b[39m(i, \u001b[39m'\u001b[39m\u001b[39m转换完成！\u001b[39m\u001b[39m'\u001b[39m)\n",
      "File \u001b[1;32md:\\Soft\\envs\\data39\\lib\\site-packages\\pandas\\core\\generic.py:5461\u001b[0m, in \u001b[0;36mNDFrame.__getattr__\u001b[1;34m(self, name)\u001b[0m\n\u001b[0;32m   5454\u001b[0m \u001b[39m# Note: obj.x will always call obj.__getattribute__('x') prior to\u001b[39;00m\n\u001b[0;32m   5455\u001b[0m \u001b[39m# calling obj.__getattr__('x').\u001b[39;00m\n\u001b[0;32m   5456\u001b[0m \u001b[39mif\u001b[39;00m (\n\u001b[0;32m   5457\u001b[0m     name \u001b[39min\u001b[39;00m \u001b[39mself\u001b[39m\u001b[39m.\u001b[39m_internal_names_set\n\u001b[0;32m   5458\u001b[0m     \u001b[39mor\u001b[39;00m name \u001b[39min\u001b[39;00m \u001b[39mself\u001b[39m\u001b[39m.\u001b[39m_metadata\n\u001b[0;32m   5459\u001b[0m     \u001b[39mor\u001b[39;00m name \u001b[39min\u001b[39;00m \u001b[39mself\u001b[39m\u001b[39m.\u001b[39m_accessors\n\u001b[0;32m   5460\u001b[0m ):\n\u001b[1;32m-> 5461\u001b[0m     \u001b[39mreturn\u001b[39;00m \u001b[39mobject\u001b[39;49m\u001b[39m.\u001b[39;49m\u001b[39m__getattribute__\u001b[39;49m(\u001b[39mself\u001b[39;49m, name)\n\u001b[0;32m   5462\u001b[0m \u001b[39melse\u001b[39;00m:\n\u001b[0;32m   5463\u001b[0m     \u001b[39mif\u001b[39;00m \u001b[39mself\u001b[39m\u001b[39m.\u001b[39m_info_axis\u001b[39m.\u001b[39m_can_hold_identifiers_and_holds_name(name):\n",
      "File \u001b[1;32md:\\Soft\\envs\\data39\\lib\\site-packages\\pandas\\core\\accessor.py:180\u001b[0m, in \u001b[0;36mCachedAccessor.__get__\u001b[1;34m(self, obj, cls)\u001b[0m\n\u001b[0;32m    177\u001b[0m \u001b[39mif\u001b[39;00m obj \u001b[39mis\u001b[39;00m \u001b[39mNone\u001b[39;00m:\n\u001b[0;32m    178\u001b[0m     \u001b[39m# we're accessing the attribute of the class, i.e., Dataset.geo\u001b[39;00m\n\u001b[0;32m    179\u001b[0m     \u001b[39mreturn\u001b[39;00m \u001b[39mself\u001b[39m\u001b[39m.\u001b[39m_accessor\n\u001b[1;32m--> 180\u001b[0m accessor_obj \u001b[39m=\u001b[39m \u001b[39mself\u001b[39;49m\u001b[39m.\u001b[39;49m_accessor(obj)\n\u001b[0;32m    181\u001b[0m \u001b[39m# Replace the property with the accessor object. Inspired by:\u001b[39;00m\n\u001b[0;32m    182\u001b[0m \u001b[39m# https://www.pydanny.com/cached-property.html\u001b[39;00m\n\u001b[0;32m    183\u001b[0m \u001b[39m# We need to use object.__setattr__ because we overwrite __setattr__ on\u001b[39;00m\n\u001b[0;32m    184\u001b[0m \u001b[39m# NDFrame\u001b[39;00m\n\u001b[0;32m    185\u001b[0m \u001b[39mobject\u001b[39m\u001b[39m.\u001b[39m\u001b[39m__setattr__\u001b[39m(obj, \u001b[39mself\u001b[39m\u001b[39m.\u001b[39m_name, accessor_obj)\n",
      "File \u001b[1;32md:\\Soft\\envs\\data39\\lib\\site-packages\\pandas\\core\\indexes\\accessors.py:494\u001b[0m, in \u001b[0;36mCombinedDatetimelikeProperties.__new__\u001b[1;34m(cls, data)\u001b[0m\n\u001b[0;32m    491\u001b[0m \u001b[39melif\u001b[39;00m is_period_dtype(data\u001b[39m.\u001b[39mdtype):\n\u001b[0;32m    492\u001b[0m     \u001b[39mreturn\u001b[39;00m PeriodProperties(data, orig)\n\u001b[1;32m--> 494\u001b[0m \u001b[39mraise\u001b[39;00m \u001b[39mAttributeError\u001b[39;00m(\u001b[39m\"\u001b[39m\u001b[39mCan only use .dt accessor with datetimelike values\u001b[39m\u001b[39m\"\u001b[39m)\n",
      "\u001b[1;31mAttributeError\u001b[0m: Can only use .dt accessor with datetimelike values"
     ]
    }
   ],
   "source": [
    "date_list = ['出库日期','发货日期','签收日期','开票日期','记账日期','回款日期','回款记账日期']\n",
    "date2str(df, date_list)"
   ]
  },
  {
   "cell_type": "code",
   "execution_count": null,
   "metadata": {},
   "outputs": [
    {
     "data": {
      "text/plain": [
       "Index(['Unnamed: 0', '收入年度', '日期', '凭证号', '客户名称', '收入金额', '合同号', '合同签订时间',\n",
       "       '标的物', '标的物型号', '合同数量', '合同金额', '销售订单号', '销售订单时间', '物料代码', '数量', 'h',\n",
       "       '与出库单数量差异', '与合同金额差异', '差异原因', '销售出库时间', '手签出库时间', '销售出库单号', '物料规格',\n",
       "       '合同号.1', '数量.1', '快递公司', '快递单号', '签收时间', '签收人员', '客户签收确认时间', '客户签收人员',\n",
       "       '盖章单位', '盖章类型', '发货日期', '订单号', '产品型号', '数量.2', '出库单号', '是否确认',\n",
       "       '签收日-发货日', '发票号', '开票时间', '购货单位', '规格型号', '数量.3', '含税金额', '合同号.2',\n",
       "       '发票客户核对', '备注', '需补充资料', '签收单物流单附件', '会计凭证附件-1', 'Unnamed: 53',\n",
       "       '会计凭证附件-2', '合同签收单物流单网址', '发票出库单附件', 'Unnamed: 57', '发票出库单网址',\n",
       "       'Unnamed: 59', '型号&出库单&数量', 'Unnamed: 61', 'Unnamed: 62', 'Unnamed: 63',\n",
       "       'Unnamed: 64', 'Unnamed: 65', 'Unnamed: 66', 'Unnamed: 67'],\n",
       "      dtype='object')"
      ]
     },
     "execution_count": 418,
     "metadata": {},
     "output_type": "execute_result"
    }
   ],
   "source": [
    "kj = pd.read_excel('../原始底稿/收入核查底稿-19-20年.xlsx', sheet_name='2019&2020', skiprows=1)\n",
    "kj = kj[kj['收入年度']==2020]\n",
    "kj.columns"
   ]
  },
  {
   "cell_type": "code",
   "execution_count": null,
   "metadata": {},
   "outputs": [],
   "source": [
    "kj['签收单据'] = '交付确认单'\n",
    "kj['收入金额.1'] = kj['收入金额']\n",
    "kj['数量.4'] = kj['数量']\n",
    "kj['销售单价'] = kj['合同金额']/kj['合同数量']"
   ]
  },
  {
   "cell_type": "code",
   "execution_count": null,
   "metadata": {},
   "outputs": [],
   "source": [
    "kj['底稿信息'] = kj['合同签收单物流单网址'] + '+' + kj['发票出库单网址']"
   ]
  },
  {
   "cell_type": "code",
   "execution_count": null,
   "metadata": {},
   "outputs": [],
   "source": [
    "kj = kj[['客户名称', '合同号','标的物型号', '合同数量','销售单价','合同金额',\\\n",
    "        '销售出库时间','销售出库单号','数量.1','发货日期','快递单号','数量.2',\\\n",
    "        '签收单据','数量','客户签收确认时间','盖章单位',\\\n",
    "        '开票时间','发票号','数量.3','收入金额',\\\n",
    "        '凭证号','日期','收入金额.1','数量.4', '底稿信息']]"
   ]
  },
  {
   "cell_type": "code",
   "execution_count": null,
   "metadata": {},
   "outputs": [
    {
     "data": {
      "text/plain": [
       "Index(['合并口径', '客户工商名称', '合同号', '产品代码', '合同数量', '销售单价', '合同金额', '出库日期', '出库编号',\n",
       "       '出库数量', '发货日期', '快递单号', '快递数量', '签收单据', '签收数量', '签收日期', '签收单位', '开票日期',\n",
       "       '发票编号', '开票数量', '开票金额（不含税）', '记账凭证号', '记账日期', '记账金额', '记账数量', '货款结算方式',\n",
       "       '回款日期', '回款金额', '对方名称', '回款记账日期', '回款记账金额', '对方名称.1', '底稿编号'],\n",
       "      dtype='object')"
      ]
     },
     "execution_count": 422,
     "metadata": {},
     "output_type": "execute_result"
    }
   ],
   "source": [
    "df.columns"
   ]
  },
  {
   "cell_type": "code",
   "execution_count": null,
   "metadata": {},
   "outputs": [],
   "source": [
    "kj.rename(columns={'客户名称':'客户工商名称', '标的物型号':'产品代码','销售出库时间':'出库日期',\\\n",
    "    '销售出库单号':'出库编号','数量.1':'出库数量','数量.2':'快递数量','数量':'签收数量','客户签收确认时间':'签收日期','盖章单位':'签收单位',\\\n",
    "    '开票时间':'开票日期','发票号':'发票编号','数量.3':'开票数量','收入金额':'开票金额（不含税）',\\\n",
    "    '凭证号':'记账凭证号','日期':'记账日期','收入金额.1':'记账金额','数量.4':'记账数量'}, inplace=True)"
   ]
  },
  {
   "cell_type": "code",
   "execution_count": null,
   "metadata": {},
   "outputs": [
    {
     "data": {
      "text/plain": [
       "Index(['客户工商名称', '合同号', '产品代码', '合同数量', '销售单价', '合同金额', '出库日期', '出库编号', '出库数量',\n",
       "       '发货日期', '快递单号', '快递数量', '签收单据', '签收数量', '签收日期', '签收单位', '开票日期', '发票编号',\n",
       "       '开票数量', '开票金额（不含税）', '记账凭证号', '记账日期', '记账金额', '记账数量', '底稿信息'],\n",
       "      dtype='object')"
      ]
     },
     "execution_count": 424,
     "metadata": {},
     "output_type": "execute_result"
    }
   ],
   "source": [
    "kj.columns"
   ]
  },
  {
   "cell_type": "code",
   "execution_count": null,
   "metadata": {},
   "outputs": [
    {
     "name": "stdout",
     "output_type": "stream",
     "text": [
      "出库日期 转换完成！\n",
      "发货日期 转换完成！\n",
      "签收日期 转换完成！\n",
      "开票日期 转换完成！\n",
      "记账日期 转换完成！\n"
     ]
    }
   ],
   "source": [
    "date_list = ['出库日期','发货日期','签收日期','开票日期','记账日期',]\n",
    "date2str(kj, date_list)"
   ]
  },
  {
   "cell_type": "code",
   "execution_count": null,
   "metadata": {},
   "outputs": [
    {
     "data": {
      "text/plain": [
       "(656, 52)"
      ]
     },
     "execution_count": 426,
     "metadata": {},
     "output_type": "execute_result"
    }
   ],
   "source": [
    "new = df.merge(kj, how='left', on=['客户工商名称', '合同号', '产品代码', '合同数量','出库编号','记账金额'])\n",
    "new.shape"
   ]
  },
  {
   "cell_type": "code",
   "execution_count": null,
   "metadata": {},
   "outputs": [
    {
     "name": "stdout",
     "output_type": "stream",
     "text": [
      "销售单价_x和销售单价_y有437处不相等！\n",
      "合同金额_x和合同金额_y有437处不相等！\n",
      "出库日期_x和出库日期_y有437处不相等！\n",
      "出库数量_x和出库数量_y有438处不相等！\n",
      "发货日期_x和发货日期_y有626处不相等！\n",
      "快递单号_x和快递单号_y有605处不相等！\n",
      "快递数量_x和快递数量_y有439处不相等！\n",
      "签收单据_x和签收单据_y有437处不相等！\n",
      "签收数量_x和签收数量_y有437处不相等！\n",
      "签收日期_x和签收日期_y有563处不相等！\n",
      "签收单位_x和签收单位_y有656处不相等！\n",
      "开票日期_x和开票日期_y有557处不相等！\n",
      "发票编号_x和发票编号_y有437处不相等！\n",
      "开票数量_x和开票数量_y有437处不相等！\n",
      "开票金额（不含税）_x和开票金额（不含税）_y有437处不相等！\n",
      "记账凭证号_x和记账凭证号_y有556处不相等！\n",
      "记账日期_x和记账日期_y有648处不相等！\n",
      "记账数量_x和记账数量_y有599处不相等！\n"
     ]
    },
    {
     "data": {
      "text/plain": [
       "{'销售单价': 437,\n",
       " '合同金额': 437,\n",
       " '出库日期': 437,\n",
       " '出库数量': 438,\n",
       " '发货日期': 626,\n",
       " '快递单号': 605,\n",
       " '快递数量': 439,\n",
       " '签收单据': 437,\n",
       " '签收数量': 437,\n",
       " '签收日期': 563,\n",
       " '签收单位': 656,\n",
       " '开票日期': 557,\n",
       " '发票编号': 437,\n",
       " '开票数量': 437,\n",
       " '开票金额（不含税）': 437,\n",
       " '记账凭证号': 556,\n",
       " '记账日期': 648,\n",
       " '记账数量': 599}"
      ]
     },
     "execution_count": 427,
     "metadata": {},
     "output_type": "execute_result"
    }
   ],
   "source": [
    "comp = ['销售单价', '合同金额', '出库日期','出库数量',\\\n",
    "       '发货日期', '快递单号', '快递数量', '签收单据', '签收数量', '签收日期', '签收单位', '开票日期', '发票编号',\n",
    "       '开票数量', '开票金额（不含税）', '记账凭证号', '记账日期', '记账数量',]\n",
    "\n",
    "def compare(new:pd.DataFrame, comp:list) -> list:\n",
    "    namelist = {}\n",
    "    for i in comp:\n",
    "        a = i+'_x'\n",
    "        b = i+'_y'\n",
    "        c = 'diff'+i\n",
    "        new[c] = np.where(new[a]==new[b], 0, 1)\n",
    "        n = new[c].sum()\n",
    "        print(f\"{a}和{b}有{n}处不相等！\")\n",
    "        namelist[i] = n\n",
    "    return namelist\n",
    "\n",
    "compare(new, comp)"
   ]
  },
  {
   "cell_type": "code",
   "execution_count": null,
   "metadata": {},
   "outputs": [],
   "source": [
    "# 查找是否存在多余的条目\n",
    "a = df.groupby('客户工商名称')['销售单价'].count()\n",
    "b = new.groupby('客户工商名称')['销售单价_x'].count()\n",
    "for i in a.index.values:\n",
    "    if a[i] != b[i]:\n",
    "        print(i, a[i], b[i])"
   ]
  },
  {
   "cell_type": "code",
   "execution_count": null,
   "metadata": {},
   "outputs": [
    {
     "data": {
      "text/plain": [
       "Index(['合并口径', '客户工商名称', '合同号', '产品代码', '合同数量', '销售单价_x', '合同金额_x', '出库日期_x',\n",
       "       '出库编号', '出库数量_x', '发货日期_x', '快递单号_x', '快递数量_x', '签收单据_x', '签收数量_x',\n",
       "       '签收日期_x', '签收单位_x', '开票日期_x', '发票编号_x', '开票数量_x', '开票金额（不含税）_x',\n",
       "       '记账凭证号_x', '记账日期_x', '记账金额', '记账数量_x', '货款结算方式', '回款日期', '回款金额', '对方名称',\n",
       "       '回款记账日期', '回款记账金额', '对方名称.1', '底稿编号', '销售单价_y', '合同金额_y', '出库日期_y',\n",
       "       '出库数量_y', '发货日期_y', '快递单号_y', '快递数量_y', '签收单据_y', '签收数量_y', '签收日期_y',\n",
       "       '签收单位_y', '开票日期_y', '发票编号_y', '开票数量_y', '开票金额（不含税）_y', '记账凭证号_y',\n",
       "       '记账日期_y', '记账数量_y', '底稿信息', 'diff销售单价', 'diff合同金额', 'diff出库日期',\n",
       "       'diff出库数量', 'diff发货日期', 'diff快递单号', 'diff快递数量', 'diff签收单据', 'diff签收数量',\n",
       "       'diff签收日期', 'diff签收单位', 'diff开票日期', 'diff发票编号', 'diff开票数量',\n",
       "       'diff开票金额（不含税）', 'diff记账凭证号', 'diff记账日期', 'diff记账数量'],\n",
       "      dtype='object')"
      ]
     },
     "execution_count": 429,
     "metadata": {},
     "output_type": "execute_result"
    }
   ],
   "source": [
    "new.columns"
   ]
  },
  {
   "cell_type": "code",
   "execution_count": null,
   "metadata": {},
   "outputs": [],
   "source": [
    "# new.to_excel('../new.xlsx', encoding='utf-8', index=0)\n",
    "new.fillna('', inplace=True)"
   ]
  },
  {
   "cell_type": "code",
   "execution_count": null,
   "metadata": {},
   "outputs": [],
   "source": [
    "new['快递单号_x'] = new['快递单号_x'].map(str)\n",
    "new['快递单号_y'] = new['快递单号_y'].map(str)"
   ]
  },
  {
   "cell_type": "code",
   "execution_count": null,
   "metadata": {},
   "outputs": [],
   "source": [
    "#这一部分是直接可以合并的信息, 如果x==y, 用x, 如果x不等于y，用x/y\n",
    "fill_list = ['发货日期', '快递单号','签收日期', '签收单位', '开票日期', '记账凭证号', '记账日期']\n",
    "def concat(new:pd.DataFrame, fill_list:list)->None:\n",
    "    for i in fill_list:\n",
    "        a = i+'_x'\n",
    "        b = i+'_y'\n",
    "        new[i] = new.apply(lambda row: row[a] if row[a] == row[b] else row[a]+'/'+row[b], axis=1)\n",
    "        \n",
    "concat(new, fill_list)"
   ]
  },
  {
   "cell_type": "code",
   "execution_count": null,
   "metadata": {},
   "outputs": [],
   "source": [
    "out = new[['合并口径', '客户工商名称', '合同号', '产品代码', '合同数量', '销售单价_x', '合同金额_x', '出库日期_x','出库编号', '出库数量_x',\\\n",
    "    '发货日期', '快递单号', '快递数量_x', '签收单据_x', '签收数量_x','签收日期', '签收单位',\\\n",
    "    '开票日期', '发票编号_x', '开票数量_x', '开票金额（不含税）_x',\\\n",
    "    '记账凭证号', '记账日期', '记账金额', '记账数量_x', '货款结算方式', '回款日期', '回款金额', '对方名称',\\\n",
    "    '回款记账日期', '回款记账金额', '对方名称.1', '底稿编号','底稿信息']]"
   ]
  },
  {
   "cell_type": "code",
   "execution_count": null,
   "metadata": {},
   "outputs": [],
   "source": [
    "# out.to_excel('../out-2020.xlsx', index=0, encoding='utf-8')"
   ]
  },
  {
   "cell_type": "code",
   "execution_count": null,
   "metadata": {},
   "outputs": [],
   "source": [
    "hypelinks = out[out['底稿信息']!='']['底稿信息'].values"
   ]
  },
  {
   "cell_type": "code",
   "execution_count": null,
   "metadata": {},
   "outputs": [
    {
     "data": {
      "text/plain": [
       "203"
      ]
     },
     "execution_count": 439,
     "metadata": {},
     "output_type": "execute_result"
    }
   ],
   "source": [
    "len(hypelinks)"
   ]
  },
  {
   "cell_type": "code",
   "execution_count": null,
   "metadata": {},
   "outputs": [
    {
     "name": "stdout",
     "output_type": "stream",
     "text": [
      "http://fj.rsmchina.com.cn/File/36aece88-6071-4d31-aafd-7c32bc9f5a91 http://fj.rsmchina.com.cn/File/62da7338-5e66-4d5e-966e-217336db3628\n"
     ]
    }
   ],
   "source": [
    "for link in hypelinks:\n",
    "    f, b = link.split('+')\n",
    "    print(f,b)\n",
    "    break"
   ]
  },
  {
   "cell_type": "code",
   "execution_count": null,
   "metadata": {},
   "outputs": [
    {
     "data": {
      "text/plain": [
       "'http://fj.rsmchina.com.cn/File/36aece88-6071-4d31-aafd-7c32bc9f5a91'"
      ]
     },
     "execution_count": 441,
     "metadata": {},
     "output_type": "execute_result"
    }
   ],
   "source": [
    "f"
   ]
  },
  {
   "cell_type": "code",
   "execution_count": 473,
   "metadata": {},
   "outputs": [],
   "source": [
    "# 此处开始操作excel\n",
    "import xlwings as xw"
   ]
  },
  {
   "cell_type": "code",
   "execution_count": 474,
   "metadata": {},
   "outputs": [],
   "source": [
    "wb = xw.Book('2-2-7.xlsx')\n",
    "sht1 = wb.sheets['2020']"
   ]
  },
  {
   "cell_type": "code",
   "execution_count": 477,
   "metadata": {},
   "outputs": [],
   "source": [
    "sht1['L5'].options(transpose=True).value = out['发货日期'].values"
   ]
  },
  {
   "cell_type": "code",
   "execution_count": 478,
   "metadata": {},
   "outputs": [],
   "source": [
    "sht1['M5'].options(transpose=True).value = out['快递单号'].values"
   ]
  },
  {
   "cell_type": "code",
   "execution_count": 479,
   "metadata": {},
   "outputs": [],
   "source": [
    "sht1['Z5'].options(transpose=True).value = out['签收日期'].values"
   ]
  },
  {
   "cell_type": "code",
   "execution_count": 482,
   "metadata": {},
   "outputs": [],
   "source": [
    "sht1['AA5'].options(transpose=True).value = out['签收单位'].values"
   ]
  },
  {
   "cell_type": "code",
   "execution_count": 483,
   "metadata": {},
   "outputs": [],
   "source": [
    "sht1['AB5'].options(transpose=True).value = out['开票日期'].values"
   ]
  },
  {
   "cell_type": "code",
   "execution_count": 484,
   "metadata": {},
   "outputs": [],
   "source": [
    "sht1['AF5'].options(transpose=True).value = out['记账凭证号'].values"
   ]
  },
  {
   "cell_type": "code",
   "execution_count": 488,
   "metadata": {},
   "outputs": [],
   "source": [
    "sht1['AG5'].options(transpose=True).value = out['记账日期'].values"
   ]
  },
  {
   "cell_type": "code",
   "execution_count": 489,
   "metadata": {},
   "outputs": [],
   "source": [
    "sht1['AS5'].options(transpose=True).value = out['底稿编号'].values"
   ]
  },
  {
   "cell_type": "code",
   "execution_count": 490,
   "metadata": {},
   "outputs": [],
   "source": [
    "sht1['AT5'].options(transpose=True).value = out['底稿信息'].values"
   ]
  },
  {
   "cell_type": "code",
   "execution_count": null,
   "metadata": {},
   "outputs": [],
   "source": []
  }
 ],
 "metadata": {
  "kernelspec": {
   "display_name": "data39",
   "language": "python",
   "name": "python3"
  },
  "language_info": {
   "codemirror_mode": {
    "name": "ipython",
    "version": 3
   },
   "file_extension": ".py",
   "mimetype": "text/x-python",
   "name": "python",
   "nbconvert_exporter": "python",
   "pygments_lexer": "ipython3",
   "version": "3.9.16"
  },
  "orig_nbformat": 4
 },
 "nbformat": 4,
 "nbformat_minor": 2
}
