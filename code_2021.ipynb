{
 "cells": [
  {
   "attachments": {},
   "cell_type": "markdown",
   "metadata": {},
   "source": [
    "1. 将收入成本表中的内容按照合并口径->工商名称->合同号的顺序进行依次筛选"
   ]
  },
  {
   "cell_type": "code",
   "execution_count": 1,
   "metadata": {},
   "outputs": [],
   "source": [
    "import numpy as np\n",
    "import pandas as pd\n",
    "import xlwings as xw"
   ]
  },
  {
   "attachments": {},
   "cell_type": "markdown",
   "metadata": {},
   "source": [
    "## 2021年"
   ]
  },
  {
   "cell_type": "code",
   "execution_count": 2,
   "metadata": {},
   "outputs": [],
   "source": [
    "hebing = ['中国航天科工集团',\n",
    "'中国电子科技集团',\n",
    "'中国航天科技集团',\n",
    "'中国兵器工业集团',\n",
    "'杨茂富',\n",
    "'中国航空工业集团',\n",
    "'中国船舶集团',\n",
    "'藏朝峰',\n",
    "'中国电子信息产业集团',\n",
    "'江滔',\n",
    "'王柯',\n",
    "'丁燕',\n",
    "'杜春香',\n",
    "'上海瀚讯',\n",
    "'王晓燕',\n",
    "'王洁',\n",
    "'唐富奎',\n",
    "'山东省国有资产投资控股',\n",
    "'宏嘉科技',\n",
    "'刘英',\n",
    "'唯力科技',\n",
    "'康达新材',\n",
    "'江苏和正',\n",
    "'赖建明',\n",
    "'中国兵器装备集团'\n",
    "]"
   ]
  },
  {
   "cell_type": "code",
   "execution_count": 3,
   "metadata": {},
   "outputs": [
    {
     "data": {
      "text/plain": [
       "25"
      ]
     },
     "execution_count": 3,
     "metadata": {},
     "output_type": "execute_result"
    }
   ],
   "source": [
    "len(hebing)"
   ]
  },
  {
   "cell_type": "code",
   "execution_count": 4,
   "metadata": {},
   "outputs": [],
   "source": [
    "df = pd.read_excel('./收入成本大表2020-2022.xlsx', sheet_name='2021')\n",
    "df = df.iloc[:,0:15]"
   ]
  },
  {
   "cell_type": "code",
   "execution_count": 5,
   "metadata": {},
   "outputs": [],
   "source": [
    "df['合同金额'] = df['数量']*df['销售含税单价']"
   ]
  },
  {
   "cell_type": "code",
   "execution_count": 6,
   "metadata": {},
   "outputs": [],
   "source": [
    "df = df.reindex(columns = ['合并口径','客户工商名称','合同号','产品代码','数量','销售含税单价','合同金额','出库日期','源单单号','FNote',\\\n",
    "    '日期', '发票号码','凭证号','不含税销售额'])"
   ]
  },
  {
   "cell_type": "code",
   "execution_count": 7,
   "metadata": {},
   "outputs": [
    {
     "data": {
      "text/plain": [
       "array(['合并口径', '客户工商名称', '合同号', '产品代码', '数量', '销售含税单价', '合同金额', '出库日期',\n",
       "       '源单单号', 'FNote', '日期', '发票号码', '凭证号', '不含税销售额'], dtype=object)"
      ]
     },
     "execution_count": 7,
     "metadata": {},
     "output_type": "execute_result"
    }
   ],
   "source": [
    "df.columns.values"
   ]
  },
  {
   "cell_type": "code",
   "execution_count": 8,
   "metadata": {},
   "outputs": [],
   "source": [
    "comp = {}  # comp[合并口径]=下属公司 1、客户年总销售量大于20万\n",
    "for i in hebing:\n",
    "    temp = df[df['合并口径']==i].groupby('客户工商名称')['不含税销售额'].agg(np.sum).sort_values()\n",
    "    comp_name = temp[temp>=200000].index\n",
    "    comp[i] =comp_name"
   ]
  },
  {
   "cell_type": "code",
   "execution_count": 9,
   "metadata": {},
   "outputs": [
    {
     "data": {
      "text/plain": [
       "59"
      ]
     },
     "execution_count": 9,
     "metadata": {},
     "output_type": "execute_result"
    }
   ],
   "source": [
    "n = 0\n",
    "for i in range(len(hebing)):\n",
    "    a = len(comp[hebing[i]])\n",
    "    n += a    \n",
    "n"
   ]
  },
  {
   "cell_type": "code",
   "execution_count": 10,
   "metadata": {},
   "outputs": [
    {
     "data": {
      "text/plain": [
       "Index(['北京遥感设备研究所', '湖北楚航电子科技有限公司', '中国航天科工防御技术研究院物资供应站', '北京飞航捷迅物资有限责任公司',\n",
       "       '贵州航天林泉电机有限公司', '青岛航天半导体研究所有限公司', '北京计算机技术及应用研究所', '北京无线电测量研究所',\n",
       "       '北京华航海鹰新技术开发有限责任公司', '中国长峰机电技术研究设计院'],\n",
       "      dtype='object', name='客户工商名称')"
      ]
     },
     "execution_count": 10,
     "metadata": {},
     "output_type": "execute_result"
    }
   ],
   "source": [
    "comp[hebing[0]]"
   ]
  },
  {
   "cell_type": "code",
   "execution_count": 11,
   "metadata": {},
   "outputs": [],
   "source": [
    "contracts ={}  # contracts[公司名称]=合同编号 2、抽取金额最大的三个合同，\n",
    "for i in hebing:\n",
    "    for j in comp[i]:\n",
    "        temp = df[(df['客户工商名称']==j) & (df['合并口径']==i)].groupby('合同号')['不含税销售额'].agg(np.sum).sort_values(ascending=False)\n",
    "        if len(temp)<=3:\n",
    "            contracts[j] = temp.index\n",
    "        else:\n",
    "            contracts[j] = temp.index[0:3]"
   ]
  },
  {
   "cell_type": "code",
   "execution_count": 12,
   "metadata": {},
   "outputs": [
    {
     "data": {
      "text/plain": [
       "Index(['DP0720210416-06', 'DP0720210304', 'DP0720210617-02'], dtype='object', name='合同号')"
      ]
     },
     "execution_count": 12,
     "metadata": {},
     "output_type": "execute_result"
    }
   ],
   "source": [
    "contracts['贵州航天林泉电机有限公司']"
   ]
  },
  {
   "cell_type": "code",
   "execution_count": 13,
   "metadata": {},
   "outputs": [],
   "source": [
    "out = pd.DataFrame()\n",
    "for i in hebing: # 集团\n",
    "    for j in comp[i]: # 公司\n",
    "        for c_id in contracts[j]: # 合同\n",
    "            temp = df[(df['合同号']==c_id) & (df['合并口径']==i) & (df['客户工商名称']==j)]           \n",
    "            out = pd.concat([out, temp])"
   ]
  },
  {
   "cell_type": "code",
   "execution_count": 14,
   "metadata": {},
   "outputs": [],
   "source": [
    "# out.to_excel('test.xlsx', encoding='utf-8', index=False)"
   ]
  },
  {
   "cell_type": "code",
   "execution_count": 15,
   "metadata": {},
   "outputs": [],
   "source": [
    "wb = xw.Book('2-2-7.xlsx')"
   ]
  },
  {
   "cell_type": "code",
   "execution_count": 16,
   "metadata": {},
   "outputs": [],
   "source": [
    "sht1 = wb.sheets[0]"
   ]
  },
  {
   "cell_type": "code",
   "execution_count": 117,
   "metadata": {},
   "outputs": [],
   "source": [
    "sht1['A5:AJ657'].clear_contents()"
   ]
  },
  {
   "cell_type": "code",
   "execution_count": 24,
   "metadata": {},
   "outputs": [],
   "source": [
    "sht1['B5'].value = out.iloc[:,0:9].values"
   ]
  },
  {
   "cell_type": "code",
   "execution_count": 18,
   "metadata": {},
   "outputs": [
    {
     "data": {
      "text/plain": [
       "array(['合并口径', '客户工商名称', '合同号', '产品代码', '数量', '销售含税单价', '合同金额', '出库日期',\n",
       "       '源单单号', 'FNote', '日期', '发票号码', '凭证号', '不含税销售额'], dtype=object)"
      ]
     },
     "execution_count": 18,
     "metadata": {},
     "output_type": "execute_result"
    }
   ],
   "source": [
    "out.columns.values"
   ]
  },
  {
   "cell_type": "code",
   "execution_count": 152,
   "metadata": {},
   "outputs": [],
   "source": [
    "sht1['M5:M3982'].api.NumberFormat = \"@\""
   ]
  },
  {
   "cell_type": "code",
   "execution_count": 25,
   "metadata": {},
   "outputs": [],
   "source": [
    "sht1['M5'].options(transpose=True).value = out['FNote'].values"
   ]
  },
  {
   "cell_type": "code",
   "execution_count": 149,
   "metadata": {},
   "outputs": [
    {
     "data": {
      "text/plain": [
       "array(['SF1099745648671', 'SF1099745648671', 'SF1099745648671', ...,\n",
       "       'SF1121099126045', 'SF1121099126045', 'SF1121099126045'],\n",
       "      dtype=object)"
      ]
     },
     "execution_count": 149,
     "metadata": {},
     "output_type": "execute_result"
    }
   ],
   "source": [
    "out['FNote'].values"
   ]
  },
  {
   "cell_type": "code",
   "execution_count": 150,
   "metadata": {},
   "outputs": [],
   "source": [
    "sht1['M5'].value = out['FNote'].values"
   ]
  },
  {
   "cell_type": "code",
   "execution_count": 155,
   "metadata": {},
   "outputs": [],
   "source": [
    "sht1['AD5:AD3982'].api.NumberFormat = \"@\""
   ]
  },
  {
   "cell_type": "code",
   "execution_count": 26,
   "metadata": {},
   "outputs": [],
   "source": [
    "sht1['AD5'].options(transpose=True).value = out['发票号码'].values"
   ]
  },
  {
   "cell_type": "code",
   "execution_count": 168,
   "metadata": {},
   "outputs": [],
   "source": [
    "sht1['AC5:AC3982'].api.NumberFormat = \"yyyy/mm/dd\""
   ]
  },
  {
   "cell_type": "code",
   "execution_count": 27,
   "metadata": {},
   "outputs": [],
   "source": [
    "sht1['AC5'].options(transpose=True).value = out['日期'].values"
   ]
  },
  {
   "cell_type": "code",
   "execution_count": 28,
   "metadata": {},
   "outputs": [],
   "source": [
    "sht1['AF5'].options(transpose=True).value = out['不含税销售额'].values"
   ]
  },
  {
   "cell_type": "code",
   "execution_count": 29,
   "metadata": {},
   "outputs": [],
   "source": [
    "sht1['AG5'].options(transpose=True).value = out['凭证号'].values"
   ]
  },
  {
   "cell_type": "code",
   "execution_count": 17,
   "metadata": {},
   "outputs": [
    {
     "data": {
      "text/plain": [
       "Index(['合并口径', '客户工商名称', '合同号', '产品代码', '数量', '销售含税单价', '合同金额', '出库日期', '源单单号',\n",
       "       'FNote', '日期', '发票号码', '凭证号', '不含税销售额'],\n",
       "      dtype='object')"
      ]
     },
     "execution_count": 17,
     "metadata": {},
     "output_type": "execute_result"
    }
   ],
   "source": [
    "# 合并\n",
    "out.columns"
   ]
  },
  {
   "cell_type": "code",
   "execution_count": 18,
   "metadata": {},
   "outputs": [
    {
     "data": {
      "text/plain": [
       "array(['合并工商名称', '底稿对应情况（已脱敏底稿以M后缀命名）', '收入凭证年月', '凭证号', '收入金额', '合同号',\n",
       "       '标的物型号', '出库时间', '出库单号', '数量', '发票号码', '开票日期', '数量.1', '不含税金额',\n",
       "       '客户签收确认时间', '合同号.1', '出库单号.1', '快递单号', '发件时间', '回款凭证日期', '回款凭证号',\n",
       "       '客户名称/客户代码.1', '对方科目', '回款金额', '汇款日期', '汇款方名称/汇款方代码', '是否第三方回款',\n",
       "       '金额', '票据类型', '票号', '出票人/出票人代码', '承兑人/承兑人代码', '金额.1'], dtype=object)"
      ]
     },
     "execution_count": 18,
     "metadata": {},
     "output_type": "execute_result"
    }
   ],
   "source": [
    "# 合并东方控制表 (主键：客户名称、合同号、产品代码、出库单号、数量、快递单号)这些信息可以标记一笔收入确认\n",
    "dongfang = pd.read_excel('./控制表-收入细节性测试-已脱密.xlsx', sheet_name=1, skiprows=2, usecols=[i for i in range(2, 35)])\n",
    "dongfang.columns.values"
   ]
  },
  {
   "cell_type": "code",
   "execution_count": 19,
   "metadata": {},
   "outputs": [],
   "source": [
    "# 改名\n",
    "out.rename(columns={'源单单号':'出库单号', 'FNote':'快递单号', '日期':'开票日期', '凭证号':'收入凭证号'}, inplace=True)\n",
    "dongfang.rename(columns={'合并工商名称':'客户工商名称', '标的物型号':'产品代码'}, inplace=True)"
   ]
  },
  {
   "cell_type": "code",
   "execution_count": 22,
   "metadata": {},
   "outputs": [
    {
     "data": {
      "text/plain": [
       "Index(['合并口径', '客户工商名称', '合同号', '产品代码', '数量', '销售含税单价', '合同金额', '出库日期', '出库单号',\n",
       "       '快递单号_x', '开票日期_x', '发票号码_x', '收入凭证号', '不含税销售额', '底稿对应情况（已脱敏底稿以M后缀命名）',\n",
       "       '收入凭证年月', '凭证号', '收入金额', '出库时间', '发票号码_y', '开票日期_y', '数量.1', '不含税金额',\n",
       "       '客户签收确认时间', '合同号.1', '出库单号.1', '快递单号_y', '发件时间', '回款凭证日期', '回款凭证号',\n",
       "       '客户名称/客户代码.1', '对方科目', '回款金额', '汇款日期', '汇款方名称/汇款方代码', '是否第三方回款', '金额',\n",
       "       '票据类型', '票号', '出票人/出票人代码', '承兑人/承兑人代码', '金额.1'],\n",
       "      dtype='object')"
      ]
     },
     "execution_count": 22,
     "metadata": {},
     "output_type": "execute_result"
    }
   ],
   "source": [
    "new = out.merge(dongfang, how='left', on=['客户工商名称','合同号','产品代码','数量','出库单号'])\n",
    "new.columns"
   ]
  },
  {
   "cell_type": "code",
   "execution_count": null,
   "metadata": {},
   "outputs": [],
   "source": [
    "# 货款结算方式==回款凭证号+/+'对方科目'+'票据类型'\n",
    "# 进账日期==回款凭证日期\n",
    "# 金额==汇款金额\n",
    "# 对方名称=='汇款方名称/汇款方代码'+'出票人/出票人代码'"
   ]
  },
  {
   "cell_type": "code",
   "execution_count": 24,
   "metadata": {},
   "outputs": [],
   "source": [
    "new['出库数量'] = new['数量']\n",
    "new['快递数量'] = new['数量']\n",
    "new['客户签收数量'] = new['数量']\n",
    "new['发票数量']=new['数量']\n",
    "new['记账数量'] = new['数量']\n",
    "new['货款结算方式'] = new['回款凭证号']+'/'+new['对方科目']+'/'+new['票据类型']"
   ]
  },
  {
   "cell_type": "code",
   "execution_count": 28,
   "metadata": {},
   "outputs": [],
   "source": [
    "new['快递单号'] = new.apply(lambda x:x['快递单号_x'] if x['快递单号_x']==x['快递单号_y'] or pd.isnull(x['快递单号_y']) else x['快递单号_y'],axis=1)"
   ]
  },
  {
   "cell_type": "code",
   "execution_count": 40,
   "metadata": {},
   "outputs": [
    {
     "name": "stderr",
     "output_type": "stream",
     "text": [
      "C:\\Users\\wo\\AppData\\Local\\Temp\\ipykernel_6184\\1412738457.py:1: SettingWithCopyWarning: \n",
      "A value is trying to be set on a copy of a slice from a DataFrame.\n",
      "Try using .loc[row_indexer,col_indexer] = value instead\n",
      "\n",
      "See the caveats in the documentation: https://pandas.pydata.org/pandas-docs/stable/user_guide/indexing.html#returning-a-view-versus-a-copy\n",
      "  new['运输单'] = new.apply(lambda x: '快递单' if x['快递单号'][-1].isdigit() else x['快递单号'], axis=1)\n"
     ]
    }
   ],
   "source": [
    "new['运输单'] = new.apply(lambda x: '快递单' if x['快递单号'][-1].isdigit() else x['快递单号'], axis=1)"
   ]
  },
  {
   "cell_type": "code",
   "execution_count": 33,
   "metadata": {},
   "outputs": [],
   "source": [
    "new['签收单'] = '交付确认单'"
   ]
  },
  {
   "cell_type": "code",
   "execution_count": 34,
   "metadata": {},
   "outputs": [],
   "source": [
    "new['记账凭证号'] = new['收入凭证号']+'/'+new['凭证号']"
   ]
  },
  {
   "cell_type": "code",
   "execution_count": 35,
   "metadata": {},
   "outputs": [],
   "source": [
    "new['对方名称'] = new['汇款方名称/汇款方代码']+new['承兑人/承兑人代码']"
   ]
  },
  {
   "cell_type": "code",
   "execution_count": 32,
   "metadata": {},
   "outputs": [
    {
     "data": {
      "text/plain": [
       "Index(['合并口径', '客户工商名称', '合同号', '产品代码', '数量', '销售含税单价', '合同金额', '出库日期', '出库单号',\n",
       "       '快递单号_x', '开票日期_x', '发票号码_x', '收入凭证号', '不含税销售额', '底稿对应情况（已脱敏底稿以M后缀命名）',\n",
       "       '收入凭证年月', '凭证号', '收入金额', '出库时间', '发票号码_y', '开票日期_y', '数量.1', '不含税金额',\n",
       "       '客户签收确认时间', '合同号.1', '出库单号.1', '快递单号_y', '发件时间', '回款凭证日期', '回款凭证号',\n",
       "       '客户名称/客户代码.1', '对方科目', '回款金额', '汇款日期', '汇款方名称/汇款方代码', '是否第三方回款', '金额',\n",
       "       '票据类型', '票号', '出票人/出票人代码', '承兑人/承兑人代码', '金额.1', '出库数量', '快递数量',\n",
       "       '客户签收数量', '发票数量', '记账数量', '货款结算方式', '进账日期', '快递单号', '运输单'],\n",
       "      dtype='object')"
      ]
     },
     "execution_count": 32,
     "metadata": {},
     "output_type": "execute_result"
    }
   ],
   "source": [
    "new.columns"
   ]
  },
  {
   "cell_type": "code",
   "execution_count": 41,
   "metadata": {},
   "outputs": [],
   "source": [
    "new = new[['合并口径', '客户工商名称', '合同号', '产品代码', '数量', '销售含税单价', '合同金额', \\\n",
    "    '出库日期', '出库单号','出库数量',\\\n",
    "    '运输单', '快递单号', '发件时间', '快递数量',\\\n",
    "    '签收单', '客户签收数量', '客户签收确认时间', '客户工商名称',\\\n",
    "    '开票日期_x', '发票号码_x', '发票数量', '不含税销售额',\\\n",
    "    '记账凭证号', '收入凭证年月', '不含税销售额', '记账数量',\\\n",
    "    '货款结算方式', '回款凭证日期', '回款金额',  '对方名称']]"
   ]
  },
  {
   "cell_type": "code",
   "execution_count": 42,
   "metadata": {},
   "outputs": [],
   "source": [
    "new.to_excel('new.xlsx', encoding='utf-8')"
   ]
  },
  {
   "cell_type": "code",
   "execution_count": null,
   "metadata": {},
   "outputs": [],
   "source": []
  },
  {
   "cell_type": "code",
   "execution_count": 128,
   "metadata": {},
   "outputs": [],
   "source": [
    "sht1['A5:AJ887'].clear_contents()"
   ]
  },
  {
   "cell_type": "code",
   "execution_count": 129,
   "metadata": {},
   "outputs": [],
   "source": [
    "sht1['B5'].value = new.iloc[:,0:9].values"
   ]
  },
  {
   "cell_type": "code",
   "execution_count": 132,
   "metadata": {},
   "outputs": [
    {
     "data": {
      "text/plain": [
       "合并口径                     0\n",
       "客户工商名称                   0\n",
       "合同号                      0\n",
       "产品代码                     0\n",
       "数量                       0\n",
       "销售含税单价                   0\n",
       "合同金额                     0\n",
       "出库日期                     0\n",
       "出库单号                     0\n",
       "快递单号_x                   0\n",
       "开票日期_x                   0\n",
       "发票号码_x                   0\n",
       "记账凭证号_x                  0\n",
       "不含税销售额                   0\n",
       "底稿对应情况（已脱敏底稿以M后缀命名）    771\n",
       "收入凭证年月                 771\n",
       "记账凭证号_y                771\n",
       "收入金额                   771\n",
       "出库时间                   771\n",
       "发票号码_y                 771\n",
       "开票日期_y                 771\n",
       "数量.1                   771\n",
       "不含税金额                  771\n",
       "客户签收确认时间               771\n",
       "合同号.1                  771\n",
       "出库单号.1                 771\n",
       "快递单号_y                 771\n",
       "发件时间                   774\n",
       "回款凭证日期                 825\n",
       "回款凭证号                  771\n",
       "客户名称/客户代码.1            826\n",
       "对方科目                   825\n",
       "回款金额                   825\n",
       "汇款日期                   867\n",
       "汇款方名称/汇款方代码            867\n",
       "是否第三方回款                867\n",
       "金额                     867\n",
       "票据类型                   841\n",
       "票号                     841\n",
       "出票人/出票人代码              841\n",
       "承兑人/承兑人代码              841\n",
       "金额.1                   841\n",
       "快递单号是否相等                 0\n",
       "dtype: int64"
      ]
     },
     "execution_count": 132,
     "metadata": {},
     "output_type": "execute_result"
    }
   ],
   "source": [
    "new.isnull().sum()"
   ]
  },
  {
   "cell_type": "code",
   "execution_count": 139,
   "metadata": {},
   "outputs": [],
   "source": [
    "sht1['M5'].options(transpose=True).value = new['快递单号_x'].values\n",
    "# sht1['N5'].options(transpose=True).value = new['发件时间'].values\n",
    "# sht1['AA5:AA887'].api.NumberFormat = \"yyyy-mm-dd;\"\n",
    "# sht1['AA5'].options(transpose=True).value = new['客户签收确认时间'].values\n",
    "# sht1['AC5:AC887'].api.NumberFormat = \"yyyy/m/d;\"\n",
    "# sht1['AC5'].options(transpose=True).value = new['开票日期_x'].values\n",
    "sht1['AD5'].options(transpose=True).value = new['发票号码_x'].values\n",
    "sht1['AF5'].options(transpose=True).value = new['不含税销售额'].values\n",
    "sht1['AG5'].options(transpose=True).value = new['记账凭证号_y'].values\n",
    "# sht1['AH5:AH887'].api.NumberFormat = \"yyyy/m/d;\"\n",
    "# sht1['AH5'].options(transpose=True).value = new['收入凭证年月'].values\n",
    "sht1['AL5'].options(transpose=True).value = new['回款凭证号'].values\n",
    "# sht1['AM5:AM887'].api.NumberFormat = \"yyyy/m/d;\"\n",
    "# sht1['AM5'].options(transpose=True).value = new['回款凭证日期'].values\n",
    "sht1['AN5'].options(transpose=True).value = new['回款金额'].values"
   ]
  },
  {
   "cell_type": "code",
   "execution_count": 142,
   "metadata": {},
   "outputs": [],
   "source": [
    "sht1['AT5'].options(transpose=True).value = new['底稿对应情况（已脱敏底稿以M后缀命名）'].values"
   ]
  },
  {
   "cell_type": "code",
   "execution_count": 140,
   "metadata": {},
   "outputs": [
    {
     "data": {
      "text/plain": [
       "合并口径                           object\n",
       "客户工商名称                         object\n",
       "合同号                            object\n",
       "产品代码                           object\n",
       "数量                              int64\n",
       "销售含税单价                        float64\n",
       "合同金额                          float64\n",
       "出库日期                   datetime64[ns]\n",
       "出库单号                           object\n",
       "快递单号_x                         object\n",
       "开票日期_x                 datetime64[ns]\n",
       "发票号码_x                         object\n",
       "记账凭证号_x                        object\n",
       "不含税销售额                        float64\n",
       "底稿对应情况（已脱敏底稿以M后缀命名）            object\n",
       "收入凭证年月                         object\n",
       "记账凭证号_y                        object\n",
       "收入金额                          float64\n",
       "出库时间                   datetime64[ns]\n",
       "发票号码_y                         object\n",
       "开票日期_y                 datetime64[ns]\n",
       "数量.1                          float64\n",
       "不含税金额                         float64\n",
       "客户签收确认时间               datetime64[ns]\n",
       "合同号.1                          object\n",
       "出库单号.1                         object\n",
       "快递单号_y                         object\n",
       "发件时间                           object\n",
       "回款凭证日期                 datetime64[ns]\n",
       "回款凭证号                          object\n",
       "客户名称/客户代码.1                    object\n",
       "对方科目                           object\n",
       "回款金额                          float64\n",
       "汇款日期                   datetime64[ns]\n",
       "汇款方名称/汇款方代码                    object\n",
       "是否第三方回款                        object\n",
       "金额                            float64\n",
       "票据类型                           object\n",
       "票号                             object\n",
       "出票人/出票人代码                      object\n",
       "承兑人/承兑人代码                      object\n",
       "金额.1                          float64\n",
       "快递单号是否相等                        int32\n",
       "dtype: object"
      ]
     },
     "execution_count": 140,
     "metadata": {},
     "output_type": "execute_result"
    }
   ],
   "source": [
    "new.dtypes"
   ]
  },
  {
   "cell_type": "code",
   "execution_count": 133,
   "metadata": {},
   "outputs": [],
   "source": [
    "# 判断快递单号是否存在差异\n",
    "new.to_excel('new.xlsx', encoding='utf-8')"
   ]
  },
  {
   "cell_type": "code",
   "execution_count": null,
   "metadata": {},
   "outputs": [],
   "source": [
    "# 2020年"
   ]
  }
 ],
 "metadata": {
  "kernelspec": {
   "display_name": "data39",
   "language": "python",
   "name": "python3"
  },
  "language_info": {
   "codemirror_mode": {
    "name": "ipython",
    "version": 3
   },
   "file_extension": ".py",
   "mimetype": "text/x-python",
   "name": "python",
   "nbconvert_exporter": "python",
   "pygments_lexer": "ipython3",
   "version": "3.9.16"
  },
  "orig_nbformat": 4
 },
 "nbformat": 4,
 "nbformat_minor": 2
}
