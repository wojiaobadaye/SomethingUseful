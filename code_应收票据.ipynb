{
 "cells": [
  {
   "cell_type": "code",
   "execution_count": 10,
   "metadata": {},
   "outputs": [],
   "source": [
    "import numpy as np\n",
    "import pandas as pd\n",
    "from docx import Document\n",
    "from docx.shared import Pt\n",
    "from docx.oxml.ns import qn\n",
    "from docx.enum.text import WD_PARAGRAPH_ALIGNMENT\n",
    "from docx.enum.table import WD_ALIGN_VERTICAL"
   ]
  },
  {
   "cell_type": "code",
   "execution_count": 11,
   "metadata": {},
   "outputs": [],
   "source": [
    "# # 加载 Word 文档\n",
    "# doc = Document('应收询证函模板.docx')  # 将 'example.docx' 更改为你的文件名\n",
    "\n",
    "# # 遍历文档的每个节\n",
    "# for section in doc.sections:\n",
    "#     # 获取每个节的页眉\n",
    "#     header = section.header\n",
    "#     # 遍历页眉中的每一个段落\n",
    "#     for para in header.paragraphs:\n",
    "#         # 遍历段落中的每一个 run\n",
    "#         for run in para.runs:\n",
    "#             # 从 run 中找到所有的 drawing 元素（浮动图片通常嵌入在 drawing 元素中）\n",
    "#             drawings = run._r.findall('.//' + qn('w:drawing'))\n",
    "#             for drawing in drawings:\n",
    "#                 # 将 drawing 元素替换为一个空的元素，从而删除图片\n",
    "#                 run._r.replace(drawing, parse_xml('<w:r xmlns:w=\"http://schemas.openxmlformats.org/wordprocessingml/2006/main\"></w:r>'))\n",
    "\n",
    "# # 保存文档\n",
    "# doc.save('example_no_header_images.docx')  # 将 'example_no_header_images.docx' 更改为你的新文件名\n",
    "\n",
    "\n"
   ]
  },
  {
   "cell_type": "code",
   "execution_count": 12,
   "metadata": {},
   "outputs": [
    {
     "data": {
      "text/plain": [
       "(373, 18)"
      ]
     },
     "execution_count": 12,
     "metadata": {},
     "output_type": "execute_result"
    }
   ],
   "source": [
    "# 读入dataframe 计算表格行数\n",
    "df = pd.read_excel('../应收票据-函证-明细表.xlsx', sheet_name='2应收票据', usecols=[i for i in range(20)])\n",
    "df.shape"
   ]
  },
  {
   "cell_type": "code",
   "execution_count": 13,
   "metadata": {},
   "outputs": [],
   "source": [
    "# 2000-01-01\n",
    "# df['出票日'] = df['出票日'].apply(lambda x: x.strftime(format='%Y-%m-%d'))\n",
    "# df['截止日期'] = df['截止日期'].apply(lambda x: x.strftime(format='%Y-%m-%d'))\n",
    "# df['到期日'] = df['到期日'].apply(lambda x: x.strftime(format='%Y-%m-%d'))"
   ]
  },
  {
   "cell_type": "code",
   "execution_count": 14,
   "metadata": {},
   "outputs": [],
   "source": [
    "# 2000年1月1日\n",
    "df['出票日'] = df['出票日'].apply(lambda x: x.strftime(format=\"%Y年%m月%d日\").replace('年0', '年').replace('月0', '月'))\n",
    "df['截止日期'] = df['截止日期'].apply(lambda x: x.strftime(format=\"%Y年%m月%d日\").replace('年0', '年').replace('月0', '月'))\n",
    "df['到期日'] = df['到期日'].apply(lambda x: x.strftime(format=\"%Y年%m月%d日\").replace('年0', '年').replace('月0', '月'))"
   ]
  },
  {
   "cell_type": "code",
   "execution_count": 15,
   "metadata": {},
   "outputs": [],
   "source": [
    "comp_number = df.groupby('被询证单位')['询证函编号'].count()"
   ]
  },
  {
   "cell_type": "code",
   "execution_count": 16,
   "metadata": {},
   "outputs": [
    {
     "data": {
      "text/plain": [
       "被询证单位\n",
       "上海瀚讯信息技术股份有限公司       1\n",
       "上海航天电子通讯设备研究所        2\n",
       "上海航空电器有限公司           1\n",
       "中兵通信科技股份有限公司         5\n",
       "中国兵器工业计算机应用技术研究所     5\n",
       "                    ..\n",
       "长沙湘计海盾科技有限公司        10\n",
       "陕西中科天地航空模块有限公司      14\n",
       "陕西铭贤电子科技有限公司        10\n",
       "陕西雷能电子科技有限公司         6\n",
       "青岛航天半导体研究所有限公司      41\n",
       "Name: 询证函编号, Length: 62, dtype: int64"
      ]
     },
     "execution_count": 16,
     "metadata": {},
     "output_type": "execute_result"
    }
   ],
   "source": [
    "comp_number"
   ]
  },
  {
   "cell_type": "code",
   "execution_count": 17,
   "metadata": {},
   "outputs": [],
   "source": [
    "heji = df.groupby(['被询证单位','年份'])['金额'].sum()"
   ]
  },
  {
   "cell_type": "code",
   "execution_count": 18,
   "metadata": {},
   "outputs": [
    {
     "data": {
      "text/plain": [
       "被询证单位           年份  \n",
       "上海瀚讯信息技术股份有限公司  2022    1000000.0\n",
       "上海航天电子通讯设备研究所   2021     176000.0\n",
       "                2022      79000.0\n",
       "上海航空电器有限公司      2023      48002.4\n",
       "中兵通信科技股份有限公司    2021     500000.0\n",
       "                          ...    \n",
       "陕西雷能电子科技有限公司    2022     697400.0\n",
       "青岛航天半导体研究所有限公司  2020    2116554.0\n",
       "                2021    2079870.0\n",
       "                2022    5591900.0\n",
       "                2023    2402400.0\n",
       "Name: 金额, Length: 130, dtype: float64"
      ]
     },
     "execution_count": 18,
     "metadata": {},
     "output_type": "execute_result"
    }
   ],
   "source": [
    "heji"
   ]
  },
  {
   "cell_type": "code",
   "execution_count": 19,
   "metadata": {},
   "outputs": [],
   "source": [
    "# 替换单位名称\n",
    "def docx_find_replace_text(doc, search_text, replace_text):\n",
    "    for paragraph in doc.paragraphs:\n",
    "        if search_text in paragraph.text:\n",
    "            for run in paragraph.runs:\n",
    "                if search_text in run.text:\n",
    "                    run.text = run.text.replace(search_text, replace_text)\n",
    "\n",
    "# docx_find_replace_text(doc, '«name»', 'new text')"
   ]
  },
  {
   "cell_type": "code",
   "execution_count": 20,
   "metadata": {},
   "outputs": [],
   "source": [
    "# # 替换编号\n",
    "# def docx_find_replace_header(doc, search_text, replace_text):\n",
    "#     for section in doc.sections:\n",
    "#         header = section.header  # 获取节的页眉\n",
    "#         for paragraph in header.paragraphs:  # 遍历页眉的每个段落\n",
    "#             if search_text in paragraph.text:\n",
    "#                 for run in paragraph.runs:\n",
    "#                     if search_text in run.text:\n",
    "#                         run.text = run.text.replace(search_text, replace_text)\n",
    "\n",
    "# # docx_find_replace_header(doc, '«c_id»', 'new text')"
   ]
  },
  {
   "cell_type": "code",
   "execution_count": 21,
   "metadata": {},
   "outputs": [],
   "source": [
    "def set_cell_text_style(cell, pos): #确定样式\n",
    "    cell.vertical_alignment = WD_ALIGN_VERTICAL.CENTER # 垂直居中\n",
    "    for para in cell.paragraphs:\n",
    "        if pos.lower() == \"left\":\n",
    "            para.alignment = WD_PARAGRAPH_ALIGNMENT.LEFT\n",
    "        elif pos.lower() == \"mid\":\n",
    "            para.alignment = WD_PARAGRAPH_ALIGNMENT.CENTER\n",
    "        elif pos.lower() == \"right\":\n",
    "            para.alignment = WD_PARAGRAPH_ALIGNMENT.RIGHT\n",
    "        else:\n",
    "            raise ValueError(\"Invalid position value. Please use 'left', 'mid' or 'right'.\")\n",
    "        for run in para.runs:\n",
    "            run.font.size = Pt(10.5) # 五号字体\n",
    "            run.font.name = u\"宋体\"\n",
    "            run._element.rPr.rFonts.set(qn('w:eastAsia'), u'宋体')\n",
    "    return cell"
   ]
  },
  {
   "cell_type": "code",
   "execution_count": 22,
   "metadata": {},
   "outputs": [],
   "source": [
    "# 根据每个公司不同的票据数，生成不同的行数\n",
    "for name in comp_number.index:\n",
    "    doc = Document('./example_应收票据.docx')\n",
    "    c_id = df[df['被询证单位']==name]['询证函编号'].drop_duplicates().values[0]\n",
    "    docx_find_replace_text(doc, '«c_id»', c_id)\n",
    "    docx_find_replace_text(doc, '«name»', name)\n",
    "    table_num = 0\n",
    "    \n",
    "    for year in [2020,2021,2022,2023]:\n",
    "        temp = df[(df['被询证单位']==name) & (df['年份']==year)]\n",
    "        r_num, c_num = temp.shape\n",
    "        \n",
    "        if r_num==0: # 当年无记录\n",
    "            table_num += 1\n",
    "            \n",
    "        elif r_num == 1:  # 当年只有一条记录 \n",
    "            r = doc.tables[table_num].rows[1]\n",
    "            r.cells[0].text = '1' ; set_cell_text_style(r.cells[0], 'mid') # 序号\n",
    "            r.cells[1].text = temp.iloc[0, 4].strip() ; set_cell_text_style(r.cells[1], 'left') # 票据种类\n",
    "            r.cells[2].text = temp.iloc[0, 5].strip() ; set_cell_text_style(r.cells[2], 'left') # 出票单位名称\n",
    "            r.cells[3].text = temp.iloc[0, 6].strip() ; set_cell_text_style(r.cells[3], 'left') # 承兑人\n",
    "            r.cells[4].text = temp.iloc[0, 7] ; set_cell_text_style(r.cells[4], 'left') # 出票日\n",
    "            r.cells[5].text = temp.iloc[0, 8] ; set_cell_text_style(r.cells[5], 'left') # 到期日\n",
    "            r.cells[6].text = temp.iloc[0, 9] ; set_cell_text_style(r.cells[6], 'left') # 票号\n",
    "            r.cells[7].text = \"{:,.2f}\".format(temp.iloc[0, 10]) ; set_cell_text_style(r.cells[7], 'right') # 金额\n",
    "            \n",
    "            # 书写完成后删除行\n",
    "            # row = doc.tables[table_num].rows[1]._element\n",
    "            # row.getparent().remove(row)\n",
    "            table_num += 1\n",
    "        else:   \n",
    "            for i in range(r_num):\n",
    "                adr = doc.tables[table_num].add_row()\n",
    "                adr.cells[0].text = str(i+1) ; set_cell_text_style(adr.cells[0], 'mid')# 序号\n",
    "                adr.cells[1].text = temp.iloc[i, 4].strip() ; set_cell_text_style(adr.cells[1], 'left')# 票据种类\n",
    "                adr.cells[2].text = temp.iloc[i, 5].strip() ; set_cell_text_style(adr.cells[2], 'left')# 出票单位名称\n",
    "                adr.cells[3].text = temp.iloc[i, 6].strip() ; set_cell_text_style(adr.cells[3], 'left')# 承兑人\n",
    "                adr.cells[4].text = temp.iloc[i, 7] ; set_cell_text_style(adr.cells[4], 'left')# 出票日\n",
    "                adr.cells[5].text = temp.iloc[i, 8] ; set_cell_text_style(adr.cells[5], 'left')# 到期日\n",
    "                adr.cells[6].text = temp.iloc[i, 9] ; set_cell_text_style(adr.cells[6], 'left')# 票号\n",
    "                adr.cells[7].text = \"{:,.2f}\".format(temp.iloc[i, 10]) ; set_cell_text_style(adr.cells[7], 'right')# 金额\n",
    "                \n",
    "            # 循环结束后删除第二行\n",
    "            row = doc.tables[table_num].rows[1]._element\n",
    "            row.getparent().remove(row)\n",
    "            \n",
    "            # 循环结束后增加合计部分\n",
    "            row_cells = doc.tables[table_num].add_row().cells\n",
    "            merged_cell = row_cells[0].merge(row_cells[1]).merge(row_cells[2]).merge(row_cells[3]).merge(row_cells[4])\\\n",
    "                .merge(row_cells[5]).merge(row_cells[6])\n",
    "\n",
    "            # 将合并后的单元格的文本设置为\"合计\"\n",
    "            merged_cell.text = '合计:' ; set_cell_text_style(merged_cell, 'mid')\n",
    "            row_cells[7].text = \"{:,.2f}\".format(heji[name].get(year, '无')) ; set_cell_text_style(row_cells[7], 'right') # 合计金额\n",
    "            # # 获取单元格中的第一个段落\n",
    "            # para = merged_cell.paragraphs[0]\n",
    "\n",
    "            # # 设置段落的对齐方式为居中\n",
    "            # para.alignment = 'WD_PARAGRAPH_ALIGNMENT.CENTER'\n",
    "\n",
    "            # # 设置段落的字体为宋体，大小为5号\n",
    "            # run = para.runs[0]\n",
    "            # run.font.name = '宋体'\n",
    "            # run.font.size = Pt(21)  # 五号字对应21磅\n",
    "            table_num += 1\n",
    "                    \n",
    "    doc.save(f'../2应收票据/{name}-应收票据询证函.docx')\n",
    "\n",
    "\n",
    "\n"
   ]
  },
  {
   "cell_type": "code",
   "execution_count": 23,
   "metadata": {},
   "outputs": [
    {
     "data": {
      "text/plain": [
       "'青岛航天半导体研究所有限公司'"
      ]
     },
     "execution_count": 23,
     "metadata": {},
     "output_type": "execute_result"
    }
   ],
   "source": [
    "name"
   ]
  },
  {
   "cell_type": "code",
   "execution_count": 26,
   "metadata": {},
   "outputs": [
    {
     "data": {
      "text/plain": [
       "年份\n",
       "2020    2748936.0\n",
       "2022    4462650.0\n",
       "2023     417550.0\n",
       "Name: 金额, dtype: float64"
      ]
     },
     "execution_count": 26,
     "metadata": {},
     "output_type": "execute_result"
    }
   ],
   "source": [
    "heji['陕西铭贤电子科技有限公司']"
   ]
  },
  {
   "cell_type": "code",
   "execution_count": 147,
   "metadata": {},
   "outputs": [
    {
     "data": {
      "text/plain": [
       "MultiIndex([(    '上海瀚讯信息技术股份有限公司', 2022),\n",
       "            (     '上海航天电子通讯设备研究所', 2021),\n",
       "            (     '上海航天电子通讯设备研究所', 2022),\n",
       "            (      '中兵通信科技股份有限公司', 2021),\n",
       "            (      '中兵通信科技股份有限公司', 2022),\n",
       "            (  '中国兵器工业计算机应用技术研究所', 2020),\n",
       "            (  '中国兵器工业计算机应用技术研究所', 2021),\n",
       "            ('中国兵器装备集团自动化研究所有限公司', 2021),\n",
       "            ('中国兵器装备集团自动化研究所有限公司', 2022),\n",
       "            ( '中国电子科技集团公司第三十六研究所', 2021),\n",
       "            ...\n",
       "            (    '陕西中科天地航空模块有限公司', 2021),\n",
       "            (    '陕西中科天地航空模块有限公司', 2022),\n",
       "            (      '陕西铭贤电子科技有限公司', 2020),\n",
       "            (      '陕西铭贤电子科技有限公司', 2022),\n",
       "            (      '陕西雷能电子科技有限公司', 2020),\n",
       "            (      '陕西雷能电子科技有限公司', 2021),\n",
       "            (      '陕西雷能电子科技有限公司', 2022),\n",
       "            (    '青岛航天半导体研究所有限公司', 2020),\n",
       "            (    '青岛航天半导体研究所有限公司', 2021),\n",
       "            (    '青岛航天半导体研究所有限公司', 2022)],\n",
       "           names=['被询证单位', '年份'], length=105)"
      ]
     },
     "execution_count": 147,
     "metadata": {},
     "output_type": "execute_result"
    }
   ],
   "source": [
    "heji.index"
   ]
  },
  {
   "cell_type": "code",
   "execution_count": null,
   "metadata": {},
   "outputs": [],
   "source": []
  }
 ],
 "metadata": {
  "kernelspec": {
   "display_name": "data39",
   "language": "python",
   "name": "python3"
  },
  "language_info": {
   "codemirror_mode": {
    "name": "ipython",
    "version": 3
   },
   "file_extension": ".py",
   "mimetype": "text/x-python",
   "name": "python",
   "nbconvert_exporter": "python",
   "pygments_lexer": "ipython3",
   "version": "3.9.16"
  },
  "orig_nbformat": 4
 },
 "nbformat": 4,
 "nbformat_minor": 2
}
